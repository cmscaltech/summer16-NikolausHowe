{
 "cells": [
  {
   "cell_type": "code",
   "execution_count": 1,
   "metadata": {
    "collapsed": false
   },
   "outputs": [
    {
     "name": "stderr",
     "output_type": "stream",
     "text": [
      "Using Theano backend.\n",
      "Using gpu device 1: GeForce GTX TITAN X (CNMeM is disabled, cuDNN not available)"
     ]
    },
    {
     "name": "stdout",
     "output_type": "stream",
     "text": [
      "Couldn't import dot_parser, loading of dot files will not be possible.\n"
     ]
    },
    {
     "name": "stderr",
     "output_type": "stream",
     "text": [
      "\n"
     ]
    }
   ],
   "source": [
    "from io_functions import *"
   ]
  },
  {
   "cell_type": "code",
   "execution_count": 2,
   "metadata": {
    "collapsed": true
   },
   "outputs": [],
   "source": [
    "%matplotlib inline\n",
    "import matplotlib.pyplot as plt"
   ]
  },
  {
   "cell_type": "code",
   "execution_count": 3,
   "metadata": {
    "collapsed": false,
    "scrolled": true
   },
   "outputs": [
    {
     "name": "stderr",
     "output_type": "stream",
     "text": [
      "io_functions.py:35: FutureWarning: comparison to `None` will result in an elementwise object comparison in the future.\n",
      "  if big==None:\n",
      "io_functions.py:42: FutureWarning: comparison to `None` will result in an elementwise object comparison in the future.\n",
      "  if big!=None:\n"
     ]
    },
    {
     "name": "stdout",
     "output_type": "stream",
     "text": [
      "50\n",
      "init\n",
      "(450, 20, 20, 25)\n",
      "init\n",
      "(300, 20, 20, 25)\n",
      "51\n",
      "init\n",
      "(430, 20, 20, 25)\n",
      "init\n",
      "(300, 20, 20, 25)\n",
      "52\n",
      "init\n",
      "(450, 20, 20, 25)\n",
      "init\n",
      "(300, 20, 20, 25)\n",
      "53\n",
      "init\n",
      "(430, 20, 20, 25)\n",
      "init\n",
      "(300, 20, 20, 25)\n",
      "54\n",
      "init\n",
      "(410, 20, 20, 25)\n",
      "init\n",
      "(300, 20, 20, 25)\n",
      "55\n",
      "init\n",
      "(450, 20, 20, 25)\n",
      "init\n",
      "(300, 20, 20, 25)\n",
      "56\n",
      "init\n",
      "(430, 20, 20, 25)\n",
      "init\n",
      "(300, 20, 20, 25)\n",
      "57\n",
      "init\n",
      "(430, 20, 20, 25)\n",
      "init\n",
      "(300, 20, 20, 25)\n",
      "58\n",
      "init\n",
      "(450, 20, 20, 25)\n",
      "init\n",
      "(300, 20, 20, 25)\n",
      "59\n",
      "init\n",
      "(430, 20, 20, 25)\n",
      "init\n",
      "(300, 20, 20, 25)\n",
      "60\n",
      "init\n",
      "(430, 20, 20, 25)\n",
      "init\n",
      "(300, 20, 20, 25)\n",
      "61\n",
      "init\n",
      "(450, 20, 20, 25)\n",
      "init\n",
      "(300, 20, 20, 25)\n",
      "62\n",
      "init\n",
      "(430, 20, 20, 25)\n",
      "init\n",
      "(300, 20, 20, 25)\n",
      "63\n",
      "init\n",
      "(450, 20, 20, 25)\n",
      "init\n",
      "(300, 20, 20, 25)\n",
      "64\n",
      "init\n",
      "(450, 20, 20, 25)\n",
      "init\n",
      "(300, 20, 20, 25)\n",
      "65\n",
      "init\n",
      "(450, 20, 20, 25)\n",
      "init\n",
      "(300, 20, 20, 25)\n",
      "66\n",
      "init\n",
      "(410, 20, 20, 25)\n",
      "init\n",
      "(300, 20, 20, 25)\n",
      "67\n",
      "init\n",
      "(430, 20, 20, 25)\n",
      "init\n",
      "(300, 20, 20, 25)\n",
      "68\n",
      "init\n",
      "(430, 20, 20, 25)\n",
      "init\n",
      "(300, 20, 20, 25)\n",
      "69\n",
      "init\n",
      "(450, 20, 20, 25)\n",
      "init\n",
      "(300, 20, 20, 25)\n",
      "70\n",
      "init\n",
      "(430, 20, 20, 25)\n",
      "init\n",
      "(300, 20, 20, 25)\n",
      "71\n",
      "init\n",
      "(450, 20, 20, 25)\n",
      "init\n",
      "(300, 20, 20, 25)\n",
      "72\n",
      "init\n",
      "(430, 20, 20, 25)\n",
      "init\n",
      "(300, 20, 20, 25)\n",
      "73\n",
      "init\n",
      "(450, 20, 20, 25)\n",
      "init\n",
      "(300, 20, 20, 25)\n",
      "74\n",
      "init\n",
      "(400, 20, 20, 25)\n",
      "init\n",
      "(300, 20, 20, 25)\n",
      "75\n",
      "init\n",
      "(430, 20, 20, 25)\n",
      "init\n",
      "(300, 20, 20, 25)\n",
      "76\n",
      "init\n",
      "(450, 20, 20, 25)\n",
      "init\n",
      "(300, 20, 20, 25)\n",
      "77\n",
      "init\n",
      "(400, 20, 20, 25)\n",
      "init\n",
      "(300, 20, 20, 25)\n",
      "78\n",
      "init\n",
      "(400, 20, 20, 25)\n",
      "init\n",
      "(300, 20, 20, 25)\n",
      "79\n",
      "init\n",
      "(400, 20, 20, 25)\n",
      "init\n",
      "(300, 20, 20, 25)\n",
      "80\n",
      "init\n",
      "(380, 20, 20, 25)\n",
      "init\n",
      "(300, 20, 20, 25)\n",
      "81\n",
      "init\n",
      "(360, 20, 20, 25)\n",
      "init\n",
      "(250, 20, 20, 25)\n",
      "82\n",
      "init\n",
      "(380, 20, 20, 25)\n",
      "init\n",
      "(300, 20, 20, 25)\n",
      "83\n",
      "init\n",
      "(320, 20, 20, 25)\n",
      "init\n",
      "(300, 20, 20, 25)\n",
      "84\n",
      "init\n",
      "(340, 20, 20, 25)\n",
      "init\n",
      "(300, 20, 20, 25)\n",
      "85\n",
      "init\n",
      "(380, 20, 20, 25)\n",
      "init\n",
      "(300, 20, 20, 25)\n",
      "86\n",
      "init\n",
      "(360, 20, 20, 25)\n",
      "init\n",
      "(300, 20, 20, 25)\n",
      "87\n",
      "init\n",
      "(380, 20, 20, 25)\n",
      "init\n",
      "(300, 20, 20, 25)\n",
      "88\n",
      "init\n",
      "(380, 20, 20, 25)\n",
      "init\n",
      "(300, 20, 20, 25)\n",
      "89\n",
      "init\n",
      "(360, 20, 20, 25)\n",
      "init\n",
      "(300, 20, 20, 25)\n",
      "90\n",
      "init\n",
      "(380, 20, 20, 25)\n",
      "init\n",
      "(300, 20, 20, 25)\n",
      "91\n",
      "init\n",
      "(380, 20, 20, 25)\n",
      "init\n",
      "(300, 20, 20, 25)\n",
      "92\n",
      "init\n",
      "(360, 20, 20, 25)\n",
      "init\n",
      "(300, 20, 20, 25)\n",
      "93\n",
      "init\n",
      "(360, 20, 20, 25)\n",
      "init\n",
      "(300, 20, 20, 25)\n",
      "94\n",
      "init\n",
      "(380, 20, 20, 25)\n",
      "init\n",
      "(300, 20, 20, 25)\n",
      "95\n",
      "init\n",
      "(380, 20, 20, 25)\n",
      "init\n",
      "(300, 20, 20, 25)\n",
      "96\n",
      "init\n",
      "(380, 20, 20, 25)\n",
      "init\n",
      "(300, 20, 20, 25)\n",
      "97\n",
      "init\n",
      "(340, 20, 20, 25)\n",
      "init\n",
      "(300, 20, 20, 25)\n",
      "98\n",
      "init\n",
      "(360, 20, 20, 25)\n",
      "init\n",
      "(300, 20, 20, 25)\n",
      "99\n",
      "init\n",
      "(380, 20, 20, 25)\n",
      "init\n",
      "(300, 20, 20, 25)\n"
     ]
    },
    {
     "name": "stderr",
     "output_type": "stream",
     "text": [
      "/usr/local/lib/python2.7/dist-packages/ipykernel/__main__.py:2: FutureWarning: comparison to `None` will result in an elementwise object comparison in the future.\n",
      "  from ipykernel import kernelapp as app\n",
      "/usr/local/lib/python2.7/dist-packages/ipykernel/__main__.py:4: FutureWarning: comparison to `None` will result in an elementwise object comparison in the future.\n",
      "/usr/local/lib/python2.7/dist-packages/ipykernel/__main__.py:14: FutureWarning: comparison to `None` will result in an elementwise object comparison in the future.\n"
     ]
    }
   ],
   "source": [
    "def add(n, v ,e ):\n",
    "    if n==None:\n",
    "        return\n",
    "    if add.A==None:\n",
    "        add.A = n\n",
    "    else:\n",
    "        add.A = np.concatenate( (add.A,n) )\n",
    "    \n",
    "    \n",
    "    ny = np.zeros( (n.shape[0], 2))\n",
    "    ny[:,0] = bool(v)\n",
    "    ny[:,1] = e\n",
    "    \n",
    "    if add.Y==None:\n",
    "        add.Y = ny\n",
    "    else:\n",
    "        add.Y = np.concatenate( (add.Y, ny) )\n",
    "    \n",
    "add.A = None\n",
    "add.Y = None\n",
    "for energy in range(50,100):\n",
    "    print energy\n",
    "    s = get_dataset('/data/vlimant/LCD/Gamma%dGeV'%energy)\n",
    "    b = get_dataset('/data/vlimant/LCD/Pi0%dGeV'%energy)\n",
    "    add( s, True, energy)\n",
    "    add( b, False, energy)\n",
    "    #print sigs[energy].shape\n",
    "    #print bkgs[energy].shape\n",
    "X = add.A\n",
    "y = add.Y"
   ]
  },
  {
   "cell_type": "code",
   "execution_count": 4,
   "metadata": {
    "collapsed": false
   },
   "outputs": [
    {
     "data": {
      "text/plain": [
       "(35270, 20, 20, 25)"
      ]
     },
     "execution_count": 4,
     "metadata": {},
     "output_type": "execute_result"
    }
   ],
   "source": [
    "X.shape"
   ]
  },
  {
   "cell_type": "code",
   "execution_count": 5,
   "metadata": {
    "collapsed": false
   },
   "outputs": [
    {
     "data": {
      "text/plain": [
       "(35270, 2)"
      ]
     },
     "execution_count": 5,
     "metadata": {},
     "output_type": "execute_result"
    }
   ],
   "source": [
    "y.shape"
   ]
  },
  {
   "cell_type": "code",
   "execution_count": 6,
   "metadata": {
    "collapsed": true
   },
   "outputs": [],
   "source": [
    "%matplotlib inline\n",
    "import matplotlib.pyplot as plt"
   ]
  },
  {
   "cell_type": "code",
   "execution_count": 7,
   "metadata": {
    "collapsed": false
   },
   "outputs": [
    {
     "data": {
      "image/png": "[encoded data removed]",
      "text/plain": [
       "<matplotlib.figure.Figure at 0x7f780c20e190>"
      ]
     },
     "metadata": {},
     "output_type": "display_data"
    }
   ],
   "source": [
    "plt.hist(y[:,0], label='label')\n",
    "plt.legend()\n",
    "plt.show()"
   ]
  },
  {
   "cell_type": "code",
   "execution_count": 8,
   "metadata": {
    "collapsed": false
   },
   "outputs": [
    {
     "data": {
      "image/png": "[encoded data removed]",
      "text/plain": [
       "<matplotlib.figure.Figure at 0x7f780c1ee810>"
      ]
     },
     "metadata": {},
     "output_type": "display_data"
    }
   ],
   "source": [
    "plt.hist(y[:,1], label='energy')\n",
    "plt.legend()\n",
    "plt.show()"
   ]
  },
  {
   "cell_type": "code",
   "execution_count": 9,
   "metadata": {
    "collapsed": false
   },
   "outputs": [
    {
     "name": "stderr",
     "output_type": "stream",
     "text": [
      "/usr/lib/python2.7/dist-packages/matplotlib/axes/_axes.py:476: UserWarning: No labelled objects found. Use label='...' kwarg on individual plots.\n",
      "  warnings.warn(\"No labelled objects found. \"\n",
      "/usr/lib/python2.7/dist-packages/matplotlib/collections.py:571: FutureWarning: elementwise comparison failed; returning scalar instead, but in the future will perform elementwise comparison\n",
      "  if self._edgecolors == str('face'):\n"
     ]
    },
    {
     "data": {
      "image/png": "[encoded data removed]",
      "text/plain": [
       "<matplotlib.figure.Figure at 0x7f780c20e290>"
      ]
     },
     "metadata": {},
     "output_type": "display_data"
    }
   ],
   "source": [
    "plt.hist2d(y[:,0],y[:,1], label='data')\n",
    "plt.legend()\n",
    "plt.colorbar()\n",
    "plt.show()"
   ]
  },
  {
   "cell_type": "code",
   "execution_count": 10,
   "metadata": {
    "collapsed": false
   },
   "outputs": [],
   "source": [
    "from keras.models import Model\n",
    "from keras.layers import Input, Dense, Dropout\n",
    "i = Input(shape=(10000,))\n",
    "d = Dense(1000, activation='sigmoid')(i)\n",
    "#dp = Dropout(0.5)(d)\n",
    "oc = Dense(1,activation='sigmoid', name='label')(d)\n",
    "oe = Dense(1,activation='sigmoid', name='energy')(d)\n"
   ]
  },
  {
   "cell_type": "code",
   "execution_count": 11,
   "metadata": {
    "collapsed": true
   },
   "outputs": [],
   "source": [
    "m_model = Model(input=i, output=[oc,oe])\n",
    "m_model.compile(loss=['binary_crossentropy','mse'], optimizer='sgd')"
   ]
  },
  {
   "cell_type": "code",
   "execution_count": 12,
   "metadata": {
    "collapsed": false
   },
   "outputs": [
    {
     "name": "stdout",
     "output_type": "stream",
     "text": [
      "Epoch 1/10\n",
      "35270/35270 [==============================] - 5s - loss: 0.3690 - label_loss: 0.3659 - energy_loss: 0.0030     \n",
      "Epoch 2/10\n",
      "35270/35270 [==============================] - 5s - loss: 0.2887 - label_loss: 0.2873 - energy_loss: 0.0013     \n",
      "Epoch 3/10\n",
      "35270/35270 [==============================] - 5s - loss: 0.2621 - label_loss: 0.2610 - energy_loss: 0.0011     \n",
      "Epoch 4/10\n",
      "35270/35270 [==============================] - 5s - loss: 0.2489 - label_loss: 0.2479 - energy_loss: 9.5186e-04     \n",
      "Epoch 5/10\n",
      "35270/35270 [==============================] - 5s - loss: 0.2365 - label_loss: 0.2356 - energy_loss: 8.6689e-04     \n",
      "Epoch 6/10\n",
      "35270/35270 [==============================] - 5s - loss: 0.2278 - label_loss: 0.2270 - energy_loss: 8.0620e-04     \n",
      "Epoch 7/10\n",
      "35270/35270 [==============================] - 5s - loss: 0.2180 - label_loss: 0.2172 - energy_loss: 7.5737e-04     \n",
      "Epoch 8/10\n",
      "35270/35270 [==============================] - 5s - loss: 0.2132 - label_loss: 0.2125 - energy_loss: 7.2099e-04     \n",
      "Epoch 9/10\n",
      "35270/35270 [==============================] - 5s - loss: 0.2062 - label_loss: 0.2055 - energy_loss: 6.9140e-04     \n",
      "Epoch 10/10\n",
      "35270/35270 [==============================] - 5s - loss: 0.2020 - label_loss: 0.2013 - energy_loss: 6.6590e-04     \n"
     ]
    },
    {
     "data": {
      "text/plain": [
       "<keras.callbacks.History at 0x7f775ed82ad0>"
      ]
     },
     "execution_count": 12,
     "metadata": {},
     "output_type": "execute_result"
    }
   ],
   "source": [
    "m_model.fit( X.reshape(X.shape[0], 10000 ), [y[:,0], y[:,1]/200.] )"
   ]
  },
  {
   "cell_type": "code",
   "execution_count": 13,
   "metadata": {
    "collapsed": true
   },
   "outputs": [],
   "source": [
    "pred = m_model.predict( X.reshape(X.shape[0], 10000 ) )"
   ]
  },
  {
   "cell_type": "code",
   "execution_count": 14,
   "metadata": {
    "collapsed": false
   },
   "outputs": [
    {
     "data": {
      "text/plain": [
       "array([[  4.53380823e-01],\n",
       "       [  9.04961646e-01],\n",
       "       [  4.08486962e-01],\n",
       "       ..., \n",
       "       [  1.78879840e-04],\n",
       "       [  3.73785011e-02],\n",
       "       [  2.29030848e-02]])"
      ]
     },
     "execution_count": 14,
     "metadata": {},
     "output_type": "execute_result"
    }
   ],
   "source": [
    "pred[0]"
   ]
  },
  {
   "cell_type": "code",
   "execution_count": 15,
   "metadata": {
    "collapsed": false
   },
   "outputs": [
    {
     "data": {
      "text/plain": [
       "array([ 1.,  1.,  1., ...,  0.,  0.,  0.])"
      ]
     },
     "execution_count": 15,
     "metadata": {},
     "output_type": "execute_result"
    }
   ],
   "source": [
    "y[:,0]"
   ]
  },
  {
   "cell_type": "code",
   "execution_count": 16,
   "metadata": {
    "collapsed": false
   },
   "outputs": [
    {
     "data": {
      "text/plain": [
       "array([ 0.26409778,  0.25867173,  0.29839766, ...,  0.5209381 ,\n",
       "        0.50639474,  0.50118017])"
      ]
     },
     "execution_count": 16,
     "metadata": {},
     "output_type": "execute_result"
    }
   ],
   "source": [
    "np.ravel(pred[1])"
   ]
  },
  {
   "cell_type": "code",
   "execution_count": 17,
   "metadata": {
    "collapsed": false
   },
   "outputs": [
    {
     "data": {
      "text/plain": [
       "array([ 0.25 ,  0.25 ,  0.25 , ...,  0.495,  0.495,  0.495])"
      ]
     },
     "execution_count": 17,
     "metadata": {},
     "output_type": "execute_result"
    }
   ],
   "source": [
    "y[:,1]/200."
   ]
  },
  {
   "cell_type": "code",
   "execution_count": 18,
   "metadata": {
    "collapsed": false
   },
   "outputs": [
    {
     "data": {
      "image/png": "[encoded data removed]",
      "text/plain": [
       "<matplotlib.figure.Figure at 0x7f775eb1f050>"
      ]
     },
     "metadata": {},
     "output_type": "display_data"
    }
   ],
   "source": [
    "plt.hist( (y[:,1] - np.ravel(pred[1]*200))/y[:,1] , label='energy resolution', bins=40)\n",
    "plt.legend()\n",
    "plt.show()"
   ]
  },
  {
   "cell_type": "code",
   "execution_count": 19,
   "metadata": {
    "collapsed": false
   },
   "outputs": [],
   "source": [
    "from sklearn.metrics import roc_curve, auc"
   ]
  },
  {
   "cell_type": "code",
   "execution_count": 20,
   "metadata": {
    "collapsed": false
   },
   "outputs": [
    {
     "data": {
      "text/plain": [
       "[<matplotlib.lines.Line2D at 0x7f775a2cdb90>]"
      ]
     },
     "execution_count": 20,
     "metadata": {},
     "output_type": "execute_result"
    },
    {
     "data": {
      "image/png": "[encoded data removed]",
      "text/plain": [
       "<matplotlib.figure.Figure at 0x7f775ed82f50>"
      ]
     },
     "metadata": {},
     "output_type": "display_data"
    }
   ],
   "source": [
    "fpr, tpr, _ = roc_curve(np.ravel(y[:,0]),pred[0])\n",
    "plt.xlim([.0, 1.01])\n",
    "plt.ylim([.0, 1.01])\n",
    "plt.title(\"ROC Curve\")\n",
    "plt.plot( tpr, 1-fpr )\n",
    "    "
   ]
  },
  {
   "cell_type": "code",
   "execution_count": null,
   "metadata": {
    "collapsed": true
   },
   "outputs": [],
   "source": []
  }
 ],
 "metadata": {
  "kernelspec": {
   "display_name": "Python 2",
   "language": "python",
   "name": "python2"
  },
  "language_info": {
   "codemirror_mode": {
    "name": "ipython",
    "version": 2
   },
   "file_extension": ".py",
   "mimetype": "text/x-python",
   "name": "python",
   "nbconvert_exporter": "python",
   "pygments_lexer": "ipython2",
   "version": "2.7.9"
  }
 },
 "nbformat": 4,
 "nbformat_minor": 0
}
