{
 "cells": [
  {
   "cell_type": "markdown",
   "metadata": {},
   "source": [
    "# Fully Connected NN"
   ]
  },
  {
   "cell_type": "code",
   "execution_count": 1,
   "metadata": {
    "collapsed": false
   },
   "outputs": [
    {
     "name": "stderr",
     "output_type": "stream",
     "text": [
      "Using Theano backend.\n",
      "Using gpu device 0: GeForce GTX TITAN X (CNMeM is disabled, cuDNN not available)"
     ]
    },
    {
     "name": "stdout",
     "output_type": "stream",
     "text": [
      "Couldn't import dot_parser, loading of dot files will not be possible.\n"
     ]
    },
    {
     "name": "stderr",
     "output_type": "stream",
     "text": [
      "\n"
     ]
    }
   ],
   "source": [
    "# Import io functions\n",
    "from io_functions import *\n",
    "from draw_functions import *"
   ]
  },
  {
   "cell_type": "markdown",
   "metadata": {},
   "source": [
    "## Load the gammas and pi0s as nparrays of 20x20x25 event arrays"
   ]
  },
  {
   "cell_type": "markdown",
   "metadata": {},
   "source": [
    "## Prepare the data"
   ]
  },
  {
   "cell_type": "code",
   "execution_count": 2,
   "metadata": {
    "collapsed": false
   },
   "outputs": [],
   "source": [
    "train_data, test_data, train_labels, test_labels = train_test(shape=(1, 20, 20, 25), split=0.33)"
   ]
  },
  {
   "cell_type": "code",
   "execution_count": 3,
   "metadata": {
    "collapsed": false
   },
   "outputs": [
    {
     "data": {
      "text/plain": [
       "(54236, 1, 20, 20, 25)"
      ]
     },
     "execution_count": 3,
     "metadata": {},
     "output_type": "execute_result"
    }
   ],
   "source": [
    "train_data.shape"
   ]
  },
  {
   "cell_type": "markdown",
   "metadata": {},
   "source": [
    "## Create and train the model"
   ]
  },
  {
   "cell_type": "code",
   "execution_count": 4,
   "metadata": {
    "collapsed": false
   },
   "outputs": [
    {
     "name": "stdout",
     "output_type": "stream",
     "text": [
      "____________________________________________________________________________________________________\n",
      "Layer (type)                       Output Shape        Param #     Connected to                     \n",
      "====================================================================================================\n",
      "convolution3d_1 (Convolution3D)    (None, 3, 17, 17, 21243         convolution3d_input_1[0][0]      \n",
      "____________________________________________________________________________________________________\n",
      "maxpooling3d_1 (MaxPooling3D)      (None, 3, 8, 8, 10) 0           convolution3d_1[0][0]            \n",
      "____________________________________________________________________________________________________\n",
      "flatten_1 (Flatten)                (None, 1920)        0           maxpooling3d_1[0][0]             \n",
      "____________________________________________________________________________________________________\n",
      "dense_1 (Dense)                    (None, 10000)       19210000    flatten_1[0][0]                  \n",
      "____________________________________________________________________________________________________\n",
      "dropout_1 (Dropout)                (None, 10000)       0           dense_1[0][0]                    \n",
      "____________________________________________________________________________________________________\n",
      "dense_2 (Dense)                    (None, 1)           10001       dropout_1[0][0]                  \n",
      "====================================================================================================\n",
      "Total params: 19220244\n",
      "____________________________________________________________________________________________________\n"
     ]
    }
   ],
   "source": [
    "# Convolutional Layers\n",
    "model = Sequential()\n",
    "model.add(Convolution3D(3, 4, 4, 5, input_shape = (1, 20, 20, 25), activation='relu'))\n",
    "model.add(MaxPooling3D())\n",
    "model.add(Flatten())\n",
    "\n",
    "# Dense layer\n",
    "model.add(Dense(10000, activation='relu'))\n",
    "model.add(Dropout(0.5))\n",
    "model.add(Dense(1, init='uniform', activation='sigmoid'))\n",
    "\n",
    "# Compile model\n",
    "model.compile(loss='binary_crossentropy', optimizer='sgd')\n",
    "model.summary()"
   ]
  },
  {
   "cell_type": "code",
   "execution_count": null,
   "metadata": {
    "collapsed": false
   },
   "outputs": [],
   "source": [
    "# Train the network\n",
    "model.fit(train_data, train_labels, nb_epoch=1, batch_size=100, verbose=0)"
   ]
  },
  {
   "cell_type": "code",
   "execution_count": 5,
   "metadata": {
    "collapsed": false
   },
   "outputs": [
    {
     "name": "stdout",
     "output_type": "stream",
     "text": [
      "____________________________________________________________________________________________________\n",
      "Layer (type)                       Output Shape        Param #     Connected to                     \n",
      "====================================================================================================\n",
      "convolution3d_2 (Convolution3D)    (None, 3, 17, 17, 21243                                          \n",
      "____________________________________________________________________________________________________\n",
      "maxpooling3d_2 (MaxPooling3D)      (None, 3, 8, 8, 10) 0                                            \n",
      "____________________________________________________________________________________________________\n",
      "flatten_2 (Flatten)                (None, 1920)        0                                            \n",
      "____________________________________________________________________________________________________\n",
      "convolution3d_3 (Convolution3D)    (None, 3, 18, 18, 22111                                          \n",
      "____________________________________________________________________________________________________\n",
      "maxpooling3d_3 (MaxPooling3D)      (None, 3, 9, 9, 11) 0                                            \n",
      "____________________________________________________________________________________________________\n",
      "flatten_3 (Flatten)                (None, 2673)        0                                            \n",
      "____________________________________________________________________________________________________\n",
      "dense_3 (Dense)                    (None, 1000)        4594000     merge_1[0][0]                    \n",
      "____________________________________________________________________________________________________\n",
      "dropout_2 (Dropout)                (None, 1000)        0           dense_3[0][0]                    \n",
      "____________________________________________________________________________________________________\n",
      "dense_4 (Dense)                    (None, 1)           1001        dropout_2[0][0]                  \n",
      "====================================================================================================\n",
      "Total params: 4595355\n",
      "____________________________________________________________________________________________________\n"
     ]
    }
   ],
   "source": [
    "model1 = Sequential()\n",
    "model1.add(Convolution3D(3, 4, 4, 5, input_shape = (1, 20, 20, 25), activation='relu'))\n",
    "model1.add(MaxPooling3D())\n",
    "model1.add(Flatten())\n",
    "\n",
    "model2 = Sequential()\n",
    "model2.add(Convolution3D(3, 3, 3, 4, input_shape = (1, 20, 20, 25), activation='relu'))\n",
    "model2.add(MaxPooling3D())\n",
    "model2.add(Flatten())\n",
    "\n",
    "## join the two\n",
    "bmodel = Sequential()\n",
    "bmodel.add(Merge([model1,model2], mode='concat'))\n",
    "\n",
    "## fully connected ending\n",
    "bmodel.add(Dense(1000, activation='relu'))\n",
    "bmodel.add(Dropout(0.5))\n",
    "bmodel.add(Dense(1, init='uniform', activation='sigmoid'))\n",
    "\n",
    "bmodel.compile(loss='binary_crossentropy', optimizer='sgd')\n",
    "bmodel.summary()"
   ]
  },
  {
   "cell_type": "code",
   "execution_count": 13,
   "metadata": {
    "collapsed": false
   },
   "outputs": [
    {
     "name": "stdout",
     "output_type": "stream",
     "text": [
      "Epoch 1/10\n",
      "54236/54236 [==============================] - 121s - loss: 0.5390   \n",
      "Epoch 2/10\n",
      "54236/54236 [==============================] - 123s - loss: 0.4723   \n",
      "Epoch 3/10\n",
      "54236/54236 [==============================] - 122s - loss: 0.4310   \n",
      "Epoch 4/10\n",
      "54236/54236 [==============================] - 124s - loss: 0.3966   \n",
      "Epoch 5/10\n",
      "54236/54236 [==============================] - 124s - loss: 0.3655   \n",
      "Epoch 6/10\n",
      "54236/54236 [==============================] - 124s - loss: 0.3533   \n",
      "Epoch 7/10\n",
      "54236/54236 [==============================] - 131s - loss: 0.3369   \n",
      "Epoch 8/10\n",
      "54236/54236 [==============================] - 150s - loss: 0.3247   \n",
      "Epoch 9/10\n",
      "54236/54236 [==============================] - 150s - loss: 0.3129   \n",
      "Epoch 10/10\n",
      "54236/54236 [==============================] - 173s - loss: 0.3093   \n"
     ]
    },
    {
     "data": {
      "text/plain": [
       "<keras.callbacks.History at 0x7f6bd7387450>"
      ]
     },
     "execution_count": 13,
     "metadata": {},
     "output_type": "execute_result"
    }
   ],
   "source": [
    "bmodel.fit([train_data,train_data], train_labels, nb_epoch=10, batch_size=1000, verbose=1)"
   ]
  },
  {
   "cell_type": "markdown",
   "metadata": {},
   "source": [
    "### Classification Histogram"
   ]
  },
  {
   "cell_type": "code",
   "execution_count": 14,
   "metadata": {
    "collapsed": false,
    "scrolled": true
   },
   "outputs": [
    {
     "data": {
      "image/png": "[encoded data removed]",
      "text/plain": [
       "<matplotlib.figure.Figure at 0x7f6b57ab3d50>"
      ]
     },
     "metadata": {},
     "output_type": "display_data"
    }
   ],
   "source": [
    "# Get the test signal and background to make the histogram\n",
    "test_signal = test_data[np.where(test_labels==1)]\n",
    "test_bkg    = test_data[np.where(test_labels==0)]\n",
    "\n",
    "# Calculate the probabilities for the test sets\n",
    "p_signal    = bmodel.predict([test_signal,test_signal])\n",
    "p_bkg       = bmodel.predict([test_bkg,test_bkg])\n",
    "\n",
    "# Draw classification histogram\n",
    "plt.hist(p_signal, 50, normed=1, facecolor='blue', alpha=0.4, label='gamma')\n",
    "plt.hist(p_bkg , 50, normed=1, facecolor='red' , alpha=0.4, label='pi0')\n",
    "plt.xlabel('Prediction')\n",
    "plt.ylabel('Probability')\n",
    "plt.title(r'$\\mathrm{Histogram\\ of\\ IQ:}\\ \\mu=100,\\ \\sigma=15$')\n",
    "plt.yscale('log')\n",
    "plt.grid(True)\n",
    "plt.legend(loc='upper right')\n",
    "plt.show()"
   ]
  },
  {
   "cell_type": "markdown",
   "metadata": {},
   "source": [
    "### ROC Curve"
   ]
  },
  {
   "cell_type": "code",
   "execution_count": 8,
   "metadata": {
    "collapsed": false
   },
   "outputs": [
    {
     "data": {
      "text/plain": [
       "[<matplotlib.lines.Line2D at 0x7f6bd945ced0>]"
      ]
     },
     "execution_count": 8,
     "metadata": {},
     "output_type": "execute_result"
    },
    {
     "data": {
      "image/png": "[encoded data removed]",
      "text/plain": [
       "<matplotlib.figure.Figure at 0x7f6bd99c6490>"
      ]
     },
     "metadata": {},
     "output_type": "display_data"
    }
   ],
   "source": [
    "# Get classification predictions\n",
    "predictions = bmodel.predict([test_data,test_data])"
   ]
  },
  {
   "cell_type": "code",
   "execution_count": 12,
   "metadata": {
    "collapsed": false
   },
   "outputs": [
    {
     "data": {
      "text/plain": [
       "[<matplotlib.lines.Line2D at 0x7f6bd7396950>]"
      ]
     },
     "execution_count": 12,
     "metadata": {},
     "output_type": "execute_result"
    },
    {
     "data": {
      "image/png": "[encoded data removed]",
      "text/plain": [
       "<matplotlib.figure.Figure at 0x7f6bd7396550>"
      ]
     },
     "metadata": {},
     "output_type": "display_data"
    }
   ],
   "source": [
    "from sklearn.metrics import roc_curve, auc\n",
    "fpr, tpr, _ = roc_curve(test_labels, predictions)\n",
    "plt.xlim([0, 1.01])\n",
    "plt.ylim([0, 1.01])\n",
    "plt.plot( tpr, 1-fpr )"
   ]
  },
  {
   "cell_type": "code",
   "execution_count": 15,
   "metadata": {
    "collapsed": false
   },
   "outputs": [
    {
     "data": {
      "text/plain": [
       "[<matplotlib.lines.Line2D at 0x7f6bd7387490>]"
      ]
     },
     "execution_count": 15,
     "metadata": {},
     "output_type": "execute_result"
    },
    {
     "data": {
      "image/png": "[encoded data removed]",
      "text/plain": [
       "<matplotlib.figure.Figure at 0x7f6bd7387dd0>"
      ]
     },
     "metadata": {},
     "output_type": "display_data"
    }
   ],
   "source": [
    "fpr, tpr, _ = roc_curve(test_labels, predictions)\n",
    "plt.xlim([0, 1.01])\n",
    "plt.ylim([0, 1.01])\n",
    "plt.plot( tpr, 1-fpr )"
   ]
  },
  {
   "cell_type": "code",
   "execution_count": 11,
   "metadata": {
    "collapsed": false
   },
   "outputs": [
    {
     "data": {
      "text/plain": [
       "array([ 1.,  1.,  1., ...,  1.,  0.,  1.])"
      ]
     },
     "execution_count": 11,
     "metadata": {},
     "output_type": "execute_result"
    }
   ],
   "source": [
    "test_labels"
   ]
  },
  {
   "cell_type": "code",
   "execution_count": 10,
   "metadata": {
    "collapsed": false
   },
   "outputs": [
    {
     "data": {
      "text/plain": [
       "array([[ 0.04905363],\n",
       "       [ 0.11018593],\n",
       "       [ 0.18781023],\n",
       "       ..., \n",
       "       [ 0.1830063 ],\n",
       "       [ 0.09541868],\n",
       "       [ 0.54028255]])"
      ]
     },
     "execution_count": 10,
     "metadata": {},
     "output_type": "execute_result"
    }
   ],
   "source": [
    "predictions"
   ]
  },
  {
   "cell_type": "code",
   "execution_count": null,
   "metadata": {
    "collapsed": true
   },
   "outputs": [],
   "source": []
  }
 ],
 "metadata": {
  "kernelspec": {
   "display_name": "Python 2",
   "language": "python",
   "name": "python2"
  },
  "language_info": {
   "codemirror_mode": {
    "name": "ipython",
    "version": 2
   },
   "file_extension": ".py",
   "mimetype": "text/x-python",
   "name": "python",
   "nbconvert_exporter": "python",
   "pygments_lexer": "ipython2",
   "version": "2.7.9"
  }
 },
 "nbformat": 4,
 "nbformat_minor": 0
}
