{
 "cells": [
  {
   "cell_type": "code",
   "execution_count": 1,
   "metadata": {
    "collapsed": true
   },
   "outputs": [],
   "source": [
    "import cPickle, gzip\n",
    "import numpy as np\n",
    "\n",
    "# Load the dataset\n",
    "f = open('mnist.pkl', 'rb')\n",
    "train_set, valid_set, test_set = cPickle.load(f)\n",
    "f.close()"
   ]
  },
  {
   "cell_type": "code",
   "execution_count": 2,
   "metadata": {
    "collapsed": false
   },
   "outputs": [],
   "source": [
    "train_data, train_target = train_set\n",
    "test_data, test_target = test_set"
   ]
  },
  {
   "cell_type": "code",
   "execution_count": 3,
   "metadata": {
    "collapsed": true
   },
   "outputs": [],
   "source": [
    "test_data = test_data[:100]\n",
    "test_target = test_target[:100]"
   ]
  },
  {
   "cell_type": "markdown",
   "metadata": {
    "collapsed": true
   },
   "source": [
    "from keras.models import Sequential\n",
    "model = Sequential()\n",
    "from keras.layers.core import Dense, Activation\n",
    "\n",
    "model.add(Dense(output_dim=1000, input_dim=784))\n",
    "model.add(Activation(\"relu\"))\n",
    "#model.add(Dense(output_dim=1000, input_dim=1000))\n",
    "#model.add(Activation(\"relu\"))\n",
    "model.add(Dense(output_dim=10))\n",
    "model.add(Activation(\"relu\"))\n",
    "model.add(Dense(output_dim=1))\n",
    "model.add(Activation(\"softmax\"))"
   ]
  },
  {
   "cell_type": "code",
   "execution_count": 4,
   "metadata": {
    "collapsed": false
   },
   "outputs": [
    {
     "name": "stderr",
     "output_type": "stream",
     "text": [
      "Using Theano backend.\n",
      "Using gpu device 1: GeForce GTX TITAN X (CNMeM is disabled, cuDNN not available)"
     ]
    },
    {
     "name": "stdout",
     "output_type": "stream",
     "text": [
      "Couldn't import dot_parser, loading of dot files will not be possible.\n"
     ]
    },
    {
     "name": "stderr",
     "output_type": "stream",
     "text": [
      "\n"
     ]
    }
   ],
   "source": [
    "from keras.models import Sequential\n",
    "from keras.layers import Dense, Dropout, Activation\n",
    "model = Sequential()\n",
    "model.add(Dense(1000, input_dim=784, activation='relu'))\n",
    "model.add(Dropout(0.5))\n",
    "model.add(Dense(1000, activation='relu'))\n",
    "model.add(Dropout(0.5))\n",
    "model.add(Dense(1000, activation='relu'))\n",
    "model.add(Dropout(0.5))\n",
    "model.add(Dense(10, init='uniform'))\n",
    "model.add(Activation('softmax'))"
   ]
  },
  {
   "cell_type": "code",
   "execution_count": 5,
   "metadata": {
    "collapsed": false
   },
   "outputs": [],
   "source": [
    "model.compile(loss='mse', optimizer='sgd')"
   ]
  },
  {
   "cell_type": "markdown",
   "metadata": {},
   "source": [
    "transform the one dimensional input to the 10 dimension softmax expectation"
   ]
  },
  {
   "cell_type": "code",
   "execution_count": 6,
   "metadata": {
    "collapsed": false
   },
   "outputs": [],
   "source": [
    "train_target_10 = np.zeros((train_target.shape[0], 10))\n",
    "test_target_10 = np.zeros((test_target.shape[0], 10))\n",
    "for number in range(10):\n",
    "    train_target_10[np.where(train_target==number),number] = 1\n",
    "    test_target_10[np.where(test_target==number),number] = 1"
   ]
  },
  {
   "cell_type": "code",
   "execution_count": null,
   "metadata": {
    "collapsed": false
   },
   "outputs": [],
   "source": [
    "n=46\n",
    "print train_target[n],train_target_10[n]"
   ]
  },
  {
   "cell_type": "code",
   "execution_count": 7,
   "metadata": {
    "collapsed": false
   },
   "outputs": [
    {
     "data": {
      "text/plain": [
       "<keras.callbacks.History at 0x7fd480044c50>"
      ]
     },
     "execution_count": 7,
     "metadata": {},
     "output_type": "execute_result"
    }
   ],
   "source": [
    "model.fit(train_data, train_target_10, nb_epoch=2, batch_size=100, verbose=0)"
   ]
  },
  {
   "cell_type": "code",
   "execution_count": 8,
   "metadata": {
    "collapsed": false,
    "scrolled": true
   },
   "outputs": [
    {
     "name": "stdout",
     "output_type": "stream",
     "text": [
      "Fraction of good prediction\n",
      "33\n",
      "0.33 %\n"
     ]
    }
   ],
   "source": [
    "p=model.predict(test_data)\n",
    "p_cat = np.argmax(p,axis=1)\n",
    "print \"Fraction of good prediction\"\n",
    "print len(np.where( p_cat == test_target)[0])\n",
    "print len(np.where( p_cat == test_target )[0])/float(len(p_cat)),\"%\""
   ]
  },
  {
   "cell_type": "markdown",
   "metadata": {
    "collapsed": true
   },
   "source": [
    "visualize the neural net (does not work, I have install a few things)"
   ]
  },
  {
   "cell_type": "code",
   "execution_count": 9,
   "metadata": {
    "collapsed": false
   },
   "outputs": [
    {
     "data": {
      "image/svg+xml": [
       "<svg height=\"629pt\" viewBox=\"0.00 0.00 176.00 629.00\" width=\"176pt\" xmlns=\"http://www.w3.org/2000/svg\" xmlns:xlink=\"http://www.w3.org/1999/xlink\">\n",
       "<g class=\"graph\" id=\"graph0\" transform=\"scale(1 1) rotate(0) translate(4 625)\">\n",
       "<title>G</title>\n",
       "<polygon fill=\"white\" points=\"-4,4 -4,-625 172,-625 172,4 -4,4\" stroke=\"none\"/>\n",
       "<!-- 140550694334992 -->\n",
       "<g class=\"node\" id=\"node1\"><title>140550694334992</title>\n",
       "<polygon fill=\"none\" points=\"-1.42109e-14,-584.5 -1.42109e-14,-620.5 168,-620.5 168,-584.5 -1.42109e-14,-584.5\" stroke=\"black\"/>\n",
       "<text font-family=\"Times,serif\" font-size=\"14.00\" text-anchor=\"middle\" x=\"84\" y=\"-598.8\">dense_input_1 (InputLayer)</text>\n",
       "</g>\n",
       "<!-- 140552017075088 -->\n",
       "<g class=\"node\" id=\"node2\"><title>140552017075088</title>\n",
       "<polygon fill=\"none\" points=\"30.5,-511.5 30.5,-547.5 137.5,-547.5 137.5,-511.5 30.5,-511.5\" stroke=\"black\"/>\n",
       "<text font-family=\"Times,serif\" font-size=\"14.00\" text-anchor=\"middle\" x=\"84\" y=\"-525.8\">dense_1 (Dense)</text>\n",
       "</g>\n",
       "<!-- 140550694334992&#45;&gt;140552017075088 -->\n",
       "<g class=\"edge\" id=\"edge1\"><title>140550694334992-&gt;140552017075088</title>\n",
       "<path d=\"M84,-584.313C84,-576.289 84,-566.547 84,-557.569\" fill=\"none\" stroke=\"black\"/>\n",
       "<polygon fill=\"black\" points=\"87.5001,-557.529 84,-547.529 80.5001,-557.529 87.5001,-557.529\" stroke=\"black\"/>\n",
       "</g>\n",
       "<!-- 140550694334864 -->\n",
       "<g class=\"node\" id=\"node3\"><title>140550694334864</title>\n",
       "<polygon fill=\"none\" points=\"19,-438.5 19,-474.5 149,-474.5 149,-438.5 19,-438.5\" stroke=\"black\"/>\n",
       "<text font-family=\"Times,serif\" font-size=\"14.00\" text-anchor=\"middle\" x=\"84\" y=\"-452.8\">dropout_1 (Dropout)</text>\n",
       "</g>\n",
       "<!-- 140552017075088&#45;&gt;140550694334864 -->\n",
       "<g class=\"edge\" id=\"edge2\"><title>140552017075088-&gt;140550694334864</title>\n",
       "<path d=\"M84,-511.313C84,-503.289 84,-493.547 84,-484.569\" fill=\"none\" stroke=\"black\"/>\n",
       "<polygon fill=\"black\" points=\"87.5001,-484.529 84,-474.529 80.5001,-484.529 87.5001,-484.529\" stroke=\"black\"/>\n",
       "</g>\n",
       "<!-- 140550693547024 -->\n",
       "<g class=\"node\" id=\"node4\"><title>140550693547024</title>\n",
       "<polygon fill=\"none\" points=\"30.5,-365.5 30.5,-401.5 137.5,-401.5 137.5,-365.5 30.5,-365.5\" stroke=\"black\"/>\n",
       "<text font-family=\"Times,serif\" font-size=\"14.00\" text-anchor=\"middle\" x=\"84\" y=\"-379.8\">dense_2 (Dense)</text>\n",
       "</g>\n",
       "<!-- 140550694334864&#45;&gt;140550693547024 -->\n",
       "<g class=\"edge\" id=\"edge3\"><title>140550694334864-&gt;140550693547024</title>\n",
       "<path d=\"M84,-438.313C84,-430.289 84,-420.547 84,-411.569\" fill=\"none\" stroke=\"black\"/>\n",
       "<polygon fill=\"black\" points=\"87.5001,-411.529 84,-401.529 80.5001,-411.529 87.5001,-411.529\" stroke=\"black\"/>\n",
       "</g>\n",
       "<!-- 140550692946448 -->\n",
       "<g class=\"node\" id=\"node5\"><title>140550692946448</title>\n",
       "<polygon fill=\"none\" points=\"19,-292.5 19,-328.5 149,-328.5 149,-292.5 19,-292.5\" stroke=\"black\"/>\n",
       "<text font-family=\"Times,serif\" font-size=\"14.00\" text-anchor=\"middle\" x=\"84\" y=\"-306.8\">dropout_2 (Dropout)</text>\n",
       "</g>\n",
       "<!-- 140550693547024&#45;&gt;140550692946448 -->\n",
       "<g class=\"edge\" id=\"edge4\"><title>140550693547024-&gt;140550692946448</title>\n",
       "<path d=\"M84,-365.313C84,-357.289 84,-347.547 84,-338.569\" fill=\"none\" stroke=\"black\"/>\n",
       "<polygon fill=\"black\" points=\"87.5001,-338.529 84,-328.529 80.5001,-338.529 87.5001,-338.529\" stroke=\"black\"/>\n",
       "</g>\n",
       "<!-- 140550692948944 -->\n",
       "<g class=\"node\" id=\"node6\"><title>140550692948944</title>\n",
       "<polygon fill=\"none\" points=\"30.5,-219.5 30.5,-255.5 137.5,-255.5 137.5,-219.5 30.5,-219.5\" stroke=\"black\"/>\n",
       "<text font-family=\"Times,serif\" font-size=\"14.00\" text-anchor=\"middle\" x=\"84\" y=\"-233.8\">dense_3 (Dense)</text>\n",
       "</g>\n",
       "<!-- 140550692946448&#45;&gt;140550692948944 -->\n",
       "<g class=\"edge\" id=\"edge5\"><title>140550692946448-&gt;140550692948944</title>\n",
       "<path d=\"M84,-292.313C84,-284.289 84,-274.547 84,-265.569\" fill=\"none\" stroke=\"black\"/>\n",
       "<polygon fill=\"black\" points=\"87.5001,-265.529 84,-255.529 80.5001,-265.529 87.5001,-265.529\" stroke=\"black\"/>\n",
       "</g>\n",
       "<!-- 140550692998480 -->\n",
       "<g class=\"node\" id=\"node7\"><title>140550692998480</title>\n",
       "<polygon fill=\"none\" points=\"19,-146.5 19,-182.5 149,-182.5 149,-146.5 19,-146.5\" stroke=\"black\"/>\n",
       "<text font-family=\"Times,serif\" font-size=\"14.00\" text-anchor=\"middle\" x=\"84\" y=\"-160.8\">dropout_3 (Dropout)</text>\n",
       "</g>\n",
       "<!-- 140550692948944&#45;&gt;140550692998480 -->\n",
       "<g class=\"edge\" id=\"edge6\"><title>140550692948944-&gt;140550692998480</title>\n",
       "<path d=\"M84,-219.313C84,-211.289 84,-201.547 84,-192.569\" fill=\"none\" stroke=\"black\"/>\n",
       "<polygon fill=\"black\" points=\"87.5001,-192.529 84,-182.529 80.5001,-192.529 87.5001,-192.529\" stroke=\"black\"/>\n",
       "</g>\n",
       "<!-- 140550693055504 -->\n",
       "<g class=\"node\" id=\"node8\"><title>140550693055504</title>\n",
       "<polygon fill=\"none\" points=\"30.5,-73.5 30.5,-109.5 137.5,-109.5 137.5,-73.5 30.5,-73.5\" stroke=\"black\"/>\n",
       "<text font-family=\"Times,serif\" font-size=\"14.00\" text-anchor=\"middle\" x=\"84\" y=\"-87.8\">dense_4 (Dense)</text>\n",
       "</g>\n",
       "<!-- 140550692998480&#45;&gt;140550693055504 -->\n",
       "<g class=\"edge\" id=\"edge7\"><title>140550692998480-&gt;140550693055504</title>\n",
       "<path d=\"M84,-146.313C84,-138.289 84,-128.547 84,-119.569\" fill=\"none\" stroke=\"black\"/>\n",
       "<polygon fill=\"black\" points=\"87.5001,-119.529 84,-109.529 80.5001,-119.529 87.5001,-119.529\" stroke=\"black\"/>\n",
       "</g>\n",
       "<!-- 140550693108496 -->\n",
       "<g class=\"node\" id=\"node9\"><title>140550693108496</title>\n",
       "<polygon fill=\"none\" points=\"7.5,-0.5 7.5,-36.5 160.5,-36.5 160.5,-0.5 7.5,-0.5\" stroke=\"black\"/>\n",
       "<text font-family=\"Times,serif\" font-size=\"14.00\" text-anchor=\"middle\" x=\"84\" y=\"-14.8\">activation_1 (Activation)</text>\n",
       "</g>\n",
       "<!-- 140550693055504&#45;&gt;140550693108496 -->\n",
       "<g class=\"edge\" id=\"edge8\"><title>140550693055504-&gt;140550693108496</title>\n",
       "<path d=\"M84,-73.3129C84,-65.2895 84,-55.5475 84,-46.5691\" fill=\"none\" stroke=\"black\"/>\n",
       "<polygon fill=\"black\" points=\"87.5001,-46.5288 84,-36.5288 80.5001,-46.5289 87.5001,-46.5288\" stroke=\"black\"/>\n",
       "</g>\n",
       "</g>\n",
       "</svg>"
      ],
      "text/plain": [
       "<IPython.core.display.SVG object>"
      ]
     },
     "execution_count": 9,
     "metadata": {},
     "output_type": "execute_result"
    }
   ],
   "source": [
    "from IPython.display import SVG\n",
    "from keras.utils.visualize_util import model_to_dot\n",
    "\n",
    "SVG(model_to_dot(model).create(prog='dot', format='svg'))"
   ]
  },
  {
   "cell_type": "markdown",
   "metadata": {
    "collapsed": true
   },
   "source": [
    "## Convolutional Layers"
   ]
  },
  {
   "cell_type": "code",
   "execution_count": null,
   "metadata": {
    "collapsed": false
   },
   "outputs": [],
   "source": [
    "from keras.models import Sequential\n",
    "from keras.layers import Dense, Dropout, Activation, Convolution2D, Flatten, MaxPooling2D\n",
    "model = Sequential()\n",
    "#model.add(Convolution1D(64, 3, border_mode='same', input_shape=(10, 32)))\n",
    "model.add(Convolution2D(10, 5, 5, input_shape = (1, 28, 28), activation='relu'))\n",
    "#(pool_length=2, stride=None, border_mode='valid')\n",
    "print(model.output_shape)\n",
    "model.add(MaxPooling2D())\n",
    "model.summary()\n",
    "model.add(Flatten())\n",
    "model.add(Dense(1000, activation='relu'))\n",
    "model.add(Dropout(0.5))\n",
    "\n",
    "#model.add(Dense(1000, activation='relu'))\n",
    "#model.add(Dropout(0.5))\n",
    "model.add(Dense(10, init='uniform'))\n",
    "model.add(Activation('softmax'))"
   ]
  },
  {
   "cell_type": "code",
   "execution_count": null,
   "metadata": {
    "collapsed": true
   },
   "outputs": [],
   "source": [
    "model.compile(loss='mse', optimizer='sgd')"
   ]
  },
  {
   "cell_type": "code",
   "execution_count": null,
   "metadata": {
    "collapsed": true
   },
   "outputs": [],
   "source": [
    "train_target_10 = np.zeros((train_target.shape[0], 10))\n",
    "test_target_10 = np.zeros((test_target.shape[0], 10))\n",
    "for number in range(10):\n",
    "    train_target_10[np.where(train_target==number),number] = 1\n",
    "    test_target_10[np.where(test_target==number),number] = 1"
   ]
  },
  {
   "cell_type": "code",
   "execution_count": null,
   "metadata": {
    "collapsed": false
   },
   "outputs": [],
   "source": [
    "n=46\n",
    "print train_target[n],train_target_10[n]"
   ]
  },
  {
   "cell_type": "code",
   "execution_count": null,
   "metadata": {
    "collapsed": false
   },
   "outputs": [],
   "source": [
    "train_data_2d = train_data.reshape((train_data.shape[0], 1, 28, 28))"
   ]
  },
  {
   "cell_type": "code",
   "execution_count": null,
   "metadata": {
    "collapsed": false
   },
   "outputs": [],
   "source": [
    "train_data.shape"
   ]
  },
  {
   "cell_type": "code",
   "execution_count": null,
   "metadata": {
    "collapsed": false
   },
   "outputs": [],
   "source": [
    "model.fit(train_data_2d, train_target_10, nb_epoch=10, batch_size=100, verbose=0)"
   ]
  },
  {
   "cell_type": "code",
   "execution_count": null,
   "metadata": {
    "collapsed": false
   },
   "outputs": [],
   "source": [
    "p=model.predict(test_data.reshape(test_data.shape[0], 1, 28, 28))\n",
    "p_cat = np.argmax(p,axis=1)\n",
    "print \"Fraction of good prediction\"\n",
    "print len(np.where( p_cat == test_target)[0])\n",
    "print len(np.where( p_cat == test_target)[0])/float(len(p_cat)),\"%\""
   ]
  },
  {
   "cell_type": "code",
   "execution_count": null,
   "metadata": {
    "collapsed": false
   },
   "outputs": [],
   "source": [
    "model.summary()"
   ]
  },
  {
   "cell_type": "code",
   "execution_count": null,
   "metadata": {
    "collapsed": true
   },
   "outputs": [],
   "source": [
    "from keras.utils.visualize_util import plot\n",
    "plot(model, to_file='model.png')\n",
    "%matplotlib inline\n",
    "import matplotlib.pyplot as plt"
   ]
  },
  {
   "cell_type": "code",
   "execution_count": null,
   "metadata": {
    "collapsed": true
   },
   "outputs": [],
   "source": [
    "test_data_2d = test_data.reshape((test_data.shape[0], 1, 28, 28))"
   ]
  },
  {
   "cell_type": "code",
   "execution_count": null,
   "metadata": {
    "collapsed": false
   },
   "outputs": [],
   "source": [
    "overlap_image = (test_data_2d[1]*.7 + test_data_2d[3]*.3)"
   ]
  },
  {
   "cell_type": "code",
   "execution_count": null,
   "metadata": {
    "collapsed": false
   },
   "outputs": [],
   "source": [
    "test_target[1]"
   ]
  },
  {
   "cell_type": "code",
   "execution_count": null,
   "metadata": {
    "collapsed": false
   },
   "outputs": [],
   "source": [
    "plt.imshow(overlap_image.reshape((28,28)),cmap='Greys_r')"
   ]
  },
  {
   "cell_type": "code",
   "execution_count": null,
   "metadata": {
    "collapsed": true
   },
   "outputs": [],
   "source": [
    "mix=model.predict(overlap_image.reshape((1,1,28,28)))"
   ]
  },
  {
   "cell_type": "code",
   "execution_count": null,
   "metadata": {
    "collapsed": false
   },
   "outputs": [],
   "source": [
    "mix"
   ]
  },
  {
   "cell_type": "code",
   "execution_count": null,
   "metadata": {
    "collapsed": true
   },
   "outputs": [],
   "source": []
  },
  {
   "cell_type": "code",
   "execution_count": null,
   "metadata": {
    "collapsed": false
   },
   "outputs": [],
   "source": [
    "c=model.layers[0]"
   ]
  },
  {
   "cell_type": "code",
   "execution_count": null,
   "metadata": {
    "collapsed": false,
    "scrolled": false
   },
   "outputs": [],
   "source": [
    "for i in range(10):\n",
    "    plt.imshow(c.get_weights()[0][i][0],cmap='Greys_r')\n",
    "    plt.show()"
   ]
  },
  {
   "cell_type": "code",
   "execution_count": null,
   "metadata": {
    "collapsed": false
   },
   "outputs": [],
   "source": [
    "len(c.get_weights())"
   ]
  },
  {
   "cell_type": "code",
   "execution_count": null,
   "metadata": {
    "collapsed": true
   },
   "outputs": [],
   "source": []
  },
  {
   "cell_type": "code",
   "execution_count": null,
   "metadata": {
    "collapsed": false
   },
   "outputs": [],
   "source": [
    "#from IPython.display import Image\n",
    "#Image(\"model.png\")"
   ]
  },
  {
   "cell_type": "code",
   "execution_count": null,
   "metadata": {
    "collapsed": false
   },
   "outputs": [],
   "source": [
    "import numpy as np\n",
    "from scipy.ndimage.interpolation import shift\n",
    "\n",
    "xs = np.array([ 0.,  1.,  2.,  3.,  4.,  5.,  6.,  7.,  8.,  9.])\n",
    "\n",
    "shift(xs, 3, cval=0)"
   ]
  },
  {
   "cell_type": "code",
   "execution_count": null,
   "metadata": {
    "collapsed": true
   },
   "outputs": [],
   "source": [
    "overlap_image = (test_data_2d[1]*.7 + test_data_2d[3]*.3)\n"
   ]
  },
  {
   "cell_type": "code",
   "execution_count": null,
   "metadata": {
    "collapsed": true
   },
   "outputs": [],
   "source": [
    "a2 = test_data_2d[1]\n",
    "shift2=np.zeros((1,28,28))"
   ]
  },
  {
   "cell_type": "code",
   "execution_count": null,
   "metadata": {
    "collapsed": false
   },
   "outputs": [],
   "source": [
    "shift2[0,0:24,0:23] = a2[0,4:,5:]"
   ]
  },
  {
   "cell_type": "code",
   "execution_count": null,
   "metadata": {
    "collapsed": false
   },
   "outputs": [],
   "source": [
    "plt.imshow(shift2.reshape(28,28),cmap='Greys_r')"
   ]
  },
  {
   "cell_type": "code",
   "execution_count": null,
   "metadata": {
    "collapsed": false
   },
   "outputs": [],
   "source": [
    "overlap_image_2 = (shift2*.5 + test_data_2d[3]*.5)"
   ]
  },
  {
   "cell_type": "code",
   "execution_count": null,
   "metadata": {
    "collapsed": false
   },
   "outputs": [],
   "source": [
    "plt.imshow(test_data_2d[3].reshape(28,28),cmap='Greys_r')"
   ]
  },
  {
   "cell_type": "code",
   "execution_count": null,
   "metadata": {
    "collapsed": true
   },
   "outputs": [],
   "source": [
    "mix=model.predict(test_data_2d[3].reshape((1,1,28,28)))"
   ]
  },
  {
   "cell_type": "code",
   "execution_count": null,
   "metadata": {
    "collapsed": false
   },
   "outputs": [],
   "source": [
    "mix"
   ]
  },
  {
   "cell_type": "code",
   "execution_count": null,
   "metadata": {
    "collapsed": true
   },
   "outputs": [],
   "source": []
  },
  {
   "cell_type": "code",
   "execution_count": null,
   "metadata": {
    "collapsed": true
   },
   "outputs": [],
   "source": []
  },
  {
   "cell_type": "code",
   "execution_count": null,
   "metadata": {
    "collapsed": true
   },
   "outputs": [],
   "source": []
  },
  {
   "cell_type": "code",
   "execution_count": null,
   "metadata": {
    "collapsed": true
   },
   "outputs": [],
   "source": []
  }
 ],
 "metadata": {
  "kernelspec": {
   "display_name": "Python 2",
   "language": "python",
   "name": "python2"
  },
  "language_info": {
   "codemirror_mode": {
    "name": "ipython",
    "version": 2
   },
   "file_extension": ".py",
   "mimetype": "text/x-python",
   "name": "python",
   "nbconvert_exporter": "python",
   "pygments_lexer": "ipython2",
   "version": "2.7.9"
  }
 },
 "nbformat": 4,
 "nbformat_minor": 0
}
