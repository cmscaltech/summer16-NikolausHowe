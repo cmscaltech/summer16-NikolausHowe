{
 "cells": [
  {
   "cell_type": "markdown",
   "metadata": {},
   "source": [
    "## Here we train single-hidden-layer fully-connected nets with different numbers of nodes"
   ]
  },
  {
   "cell_type": "code",
   "execution_count": 6,
   "metadata": {
    "collapsed": false
   },
   "outputs": [
    {
     "name": "stdout",
     "output_type": "stream",
     "text": [
      "Couldn't import dot_parser, loading of dot files will not be possible.\n",
      "using"
     ]
    },
    {
     "name": "stderr",
     "output_type": "stream",
     "text": [
      "Using gpu device 0: GeForce GTX TITAN X (CNMeM is disabled, cuDNN not available)\n",
      "Using Theano backend.\n"
     ]
    },
    {
     "name": "stdout",
     "output_type": "stream",
     "text": [
      " gpu0\n"
     ]
    }
   ],
   "source": [
    "# Import functions\n",
    "import setGPU0\n",
    "from io_functions import *\n",
    "from draw_functions import *"
   ]
  },
  {
   "cell_type": "code",
   "execution_count": 7,
   "metadata": {
    "collapsed": true
   },
   "outputs": [],
   "source": [
    "# 1 is signal; 0 is background\n",
    "train_data, test_data, train_labels, test_labels = train_test(shape=(10000,), split=0.33)"
   ]
  },
  {
   "cell_type": "code",
   "execution_count": 15,
   "metadata": {
    "collapsed": true
   },
   "outputs": [],
   "source": [
    "checkpointer = ModelCheckpoint(filepath=\"./tmp/dense%sweights.hdf5\"%number,\n",
    "                                   monitor='val_loss', verbose=1, save_best_only=True, mode='min')"
   ]
  },
  {
   "cell_type": "code",
   "execution_count": 16,
   "metadata": {
    "collapsed": false
   },
   "outputs": [
    {
     "data": {
      "text/plain": [
       "<keras.callbacks.ModelCheckpoint at 0x7f6b35349f10>"
      ]
     },
     "execution_count": 16,
     "metadata": {},
     "output_type": "execute_result"
    }
   ],
   "source": [
    "checkpointer"
   ]
  },
  {
   "cell_type": "code",
   "execution_count": 21,
   "metadata": {
    "collapsed": false
   },
   "outputs": [
    {
     "name": "stdout",
     "output_type": "stream",
     "text": [
      "Train on 43388 samples, validate on 10848 samples\n",
      "Epoch 1/2\n",
      "43000/43388 [============================>.] - ETA: 0s - loss: 0.6930Epoch 00000: saving model to ./tmp/dense5weights.hdf5\n",
      "43388/43388 [==============================] - 1s - loss: 0.6930 - val_loss: 0.6927\n",
      "Epoch 2/2\n",
      "43000/43388 [============================>.] - ETA: 0s - loss: 0.6927Epoch 00001: saving model to ./tmp/dense5weights.hdf5\n",
      "43388/43388 [==============================] - 1s - loss: 0.6927 - val_loss: 0.6925\n"
     ]
    }
   ],
   "source": [
    "from keras.callbacks import ModelCheckpoint, EarlyStopping\n",
    "# Choose our list of number of nodes\n",
    "num_nodes = [10]\n",
    "\n",
    "# Make a one-hidden-layer network with that number of nodes for each entry in num_nodes.\n",
    "# Train it for 100 epochs, save the model, the weights, and loss history.\n",
    "for number in num_nodes:\n",
    "    \n",
    "    # Construct and compile a network\n",
    "    model = Sequential()\n",
    "    model.add(Dense(number, input_dim=10000, activation='sigmoid'))\n",
    "    model.add(Dropout(0.5))\n",
    "    model.add(Dense(number, activation='sigmoid'))\n",
    "    model.add(Dropout(0.5))\n",
    "    model.add(Dense(1, init='uniform', activation='sigmoid'))\n",
    "    check = ModelCheckpoint(filepath=\"./tmp/dense%sweights.hdf5\"%number, verbose=1)\n",
    "    early = EarlyStopping(monitor='val_loss', patience=10, verbose=1, mode='auto')\n",
    "    model.compile(loss='binary_crossentropy', optimizer='sgd')\n",
    "    \n",
    "    # Train the network\n",
    "    my_fit = model.fit(train_data, train_labels, validation_split=0.2, \n",
    "                       nb_epoch=10000, batch_size=1000, verbose=1, callbacks=[check, early])\n",
    "    \n",
    "    # Store the model, the weights, and the loss history\n",
    "    store_model(model, my_fit.history['loss'], 'dense'+str(number))"
   ]
  },
  {
   "cell_type": "code",
   "execution_count": null,
   "metadata": {
    "collapsed": true
   },
   "outputs": [],
   "source": []
  }
 ],
 "metadata": {
  "kernelspec": {
   "display_name": "Python 2",
   "language": "python",
   "name": "python2"
  },
  "language_info": {
   "codemirror_mode": {
    "name": "ipython",
    "version": 2
   },
   "file_extension": ".py",
   "mimetype": "text/x-python",
   "name": "python",
   "nbconvert_exporter": "python",
   "pygments_lexer": "ipython2",
   "version": "2.7.9"
  }
 },
 "nbformat": 4,
 "nbformat_minor": 0
}
