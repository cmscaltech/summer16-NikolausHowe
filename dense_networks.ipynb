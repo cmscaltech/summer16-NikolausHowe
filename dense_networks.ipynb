{
 "cells": [
  {
   "cell_type": "markdown",
   "metadata": {},
   "source": [
    "## Here we train single-hidden-layer fully-connected nets with different numbers of nodes"
   ]
  },
  {
   "cell_type": "code",
   "execution_count": 1,
   "metadata": {
    "collapsed": false
   },
   "outputs": [
    {
     "name": "stdout",
     "output_type": "stream",
     "text": [
      "Couldn't import dot_parser, loading of dot files will not be possible.\n",
      "using"
     ]
    },
    {
     "name": "stderr",
     "output_type": "stream",
     "text": [
      "Using gpu device 0: GeForce GTX TITAN X (CNMeM is disabled, cuDNN not available)\n",
      "Using Theano backend.\n"
     ]
    },
    {
     "name": "stdout",
     "output_type": "stream",
     "text": [
      " gpu0\n"
     ]
    }
   ],
   "source": [
    "# Import functions\n",
    "import setGPU0\n",
    "from io_functions import *\n",
    "from draw_functions import *"
   ]
  },
  {
   "cell_type": "code",
   "execution_count": null,
   "metadata": {
    "collapsed": true
   },
   "outputs": [],
   "source": [
    "# 1 is signal; 0 is background\n",
    "train_data, test_data, train_labels, test_labels = train_test(shape=(10000,), split=0.33)"
   ]
  },
  {
   "cell_type": "code",
   "execution_count": null,
   "metadata": {
    "collapsed": false
   },
   "outputs": [],
   "source": [
    "# Choose our list of number of nodes\n",
    "num_nodes = [10, 100, 1000, 10000]\n",
    "\n",
    "# Make a one-hidden-layer network with that number of nodes for each entry in num_nodes.\n",
    "# Train it for 100 epochs, save the model, the weights, and loss history.\n",
    "for number in num_nodes:\n",
    "    \n",
    "    # Construct and compile a network\n",
    "    model = Sequential()\n",
    "    model.add(Dense(number, input_dim=10000, activation='sigmoid'))\n",
    "    model.add(Dropout(0.5))\n",
    "    model.add(Dense(number, activation='sigmoid'))\n",
    "    model.add(Dropout(0.5))\n",
    "    model.add(Dense(1, init='uniform', activation='sigmoid'))\n",
    "    model.compile(loss='binary_crossentropy', optimizer='sgd')\n",
    "    \n",
    "    # Train the network\n",
    "    my_fit = model.fit(train_data, train_labels, nb_epoch=100, batch_size=1000, verbose=0)\n",
    "    \n",
    "    # Store the model, the weights, and the loss history\n",
    "    store_model(model, my_fit.history['loss'], 'dense'+str(number))"
   ]
  },
  {
   "cell_type": "code",
   "execution_count": null,
   "metadata": {
    "collapsed": true
   },
   "outputs": [],
   "source": []
  }
 ],
 "metadata": {
  "kernelspec": {
   "display_name": "Python 2",
   "language": "python",
   "name": "python2"
  },
  "language_info": {
   "codemirror_mode": {
    "name": "ipython",
    "version": 2
   },
   "file_extension": ".py",
   "mimetype": "text/x-python",
   "name": "python",
   "nbconvert_exporter": "python",
   "pygments_lexer": "ipython2",
   "version": "2.7.9"
  }
 },
 "nbformat": 4,
 "nbformat_minor": 0
}
