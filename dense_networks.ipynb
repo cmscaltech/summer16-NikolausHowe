{
 "cells": [
  {
   "cell_type": "markdown",
   "metadata": {},
   "source": [
    "## Here we train single-hidden-layer fully-connected nets with different numbers of nodes"
   ]
  },
  {
   "cell_type": "code",
   "execution_count": 14,
   "metadata": {
    "collapsed": false
   },
   "outputs": [],
   "source": [
    "# Import functions\n",
    "import setGPU0\n",
    "from io_functions import *\n",
    "from draw_functions import *\n",
    "get_ipython().magic(u'matplotlib inline')\n",
    "import matplotlib.pyplot as plt"
   ]
  },
  {
   "cell_type": "code",
   "execution_count": 4,
   "metadata": {
    "collapsed": true
   },
   "outputs": [],
   "source": [
    "# 1 is signal; 0 is background\n",
    "train_data, test_data, train_labels, test_labels = train_test(shape=(10000,), split=0.33)"
   ]
  },
  {
   "cell_type": "code",
   "execution_count": 18,
   "metadata": {
    "collapsed": false
   },
   "outputs": [
    {
     "name": "stdout",
     "output_type": "stream",
     "text": [
      "Train on 43388 samples, validate on 10848 samples\n",
      "Epoch 1/8\n",
      "43000/43388 [============================>.] - ETA: 0s - loss: 0.6933Epoch 00000: saving model to ./tmp/dense10x10000weights.hdf5\n",
      "43388/43388 [==============================] - 2s - loss: 0.6933 - val_loss: 0.6930\n",
      "Epoch 2/8\n",
      "43000/43388 [============================>.] - ETA: 0s - loss: 0.6930Epoch 00001: saving model to ./tmp/dense10x10000weights.hdf5\n",
      "43388/43388 [==============================] - 2s - loss: 0.6931 - val_loss: 0.6927\n",
      "Epoch 3/8\n",
      "43000/43388 [============================>.] - ETA: 0s - loss: 0.6930Epoch 00002: saving model to ./tmp/dense10x10000weights.hdf5\n",
      "43388/43388 [==============================] - 1s - loss: 0.6930 - val_loss: 0.6925\n",
      "Epoch 4/8\n",
      "43000/43388 [============================>.] - ETA: 0s - loss: 0.6929Epoch 00003: saving model to ./tmp/dense10x10000weights.hdf5\n",
      "43388/43388 [==============================] - 1s - loss: 0.6930 - val_loss: 0.6923\n",
      "Epoch 5/8\n",
      "43000/43388 [============================>.] - ETA: 0s - loss: 0.6925Epoch 00004: saving model to ./tmp/dense10x10000weights.hdf5\n",
      "43388/43388 [==============================] - 1s - loss: 0.6925 - val_loss: 0.6921\n",
      "Epoch 6/8\n",
      "43000/43388 [============================>.] - ETA: 0s - loss: 0.6927Epoch 00005: saving model to ./tmp/dense10x10000weights.hdf5\n",
      "43388/43388 [==============================] - 2s - loss: 0.6927 - val_loss: 0.6920\n",
      "Epoch 7/8\n",
      "43000/43388 [============================>.] - ETA: 0s - loss: 0.6925Epoch 00006: saving model to ./tmp/dense10x10000weights.hdf5\n",
      "43388/43388 [==============================] - 2s - loss: 0.6925 - val_loss: 0.6918\n",
      "Epoch 8/8\n",
      "43000/43388 [============================>.] - ETA: 0s - loss: 0.6923Epoch 00007: saving model to ./tmp/dense10x10000weights.hdf5\n",
      "43388/43388 [==============================] - 1s - loss: 0.6923 - val_loss: 0.6916\n"
     ]
    }
   ],
   "source": [
    "from keras.callbacks import ModelCheckpoint, EarlyStopping\n",
    "# Choose our list of number of nodes\n",
    "num_nodes = [10]\n",
    "\n",
    "# Make a one-hidden-layer network with that number of nodes for each entry in num_nodes.\n",
    "# Train it for 100 epochs, save the model, the weights, and loss history.\n",
    "for number in num_nodes:\n",
    "    \n",
    "    # Construct and compile a network\n",
    "    model = Sequential()\n",
    "    model.add(Dense(number, input_dim=10000, activation='sigmoid'))\n",
    "    model.add(Dropout(0.5))\n",
    "    model.add(Dense(number, activation='sigmoid'))\n",
    "    model.add(Dropout(0.5))\n",
    "    model.add(Dense(1, init='uniform', activation='sigmoid'))\n",
    "    check = ModelCheckpoint(filepath=\"./tmp/dense%sx10000weights.hdf5\"%number, verbose=1)\n",
    "    early = EarlyStopping(monitor='val_loss', patience=10, verbose=1, mode='auto')\n",
    "    model.compile(loss='binary_crossentropy', optimizer='sgd')\n",
    "    \n",
    "    # Train the network\n",
    "    my_fit = model.fit(train_data, train_labels, validation_split=0.2, \n",
    "                       nb_epoch=8, batch_size=1000, verbose=1, callbacks=[check, early])\n",
    "    \n",
    "    # Store the model, the weights, and the loss history\n",
    "    store_model(model, my_fit.history, 'dense'+str(number)+'x10000')"
   ]
  },
  {
   "cell_type": "code",
   "execution_count": 10,
   "metadata": {
    "collapsed": false
   },
   "outputs": [
    {
     "data": {
      "text/plain": [
       "[0.69322799691232606,\n",
       " 0.69284124562522298,\n",
       " 0.69255365510429956,\n",
       " 0.6923200837102963,\n",
       " 0.6920950730553771,\n",
       " 0.69187764797063001,\n",
       " 0.69169813636305766,\n",
       " 0.69148424931507901]"
      ]
     },
     "execution_count": 10,
     "metadata": {},
     "output_type": "execute_result"
    }
   ],
   "source": [
    "my_fit.history['val_loss']"
   ]
  },
  {
   "cell_type": "code",
   "execution_count": 17,
   "metadata": {
    "collapsed": false
   },
   "outputs": [
    {
     "data": {
      "text/plain": [
       "[<matplotlib.lines.Line2D at 0x7f34afddc390>]"
      ]
     },
     "execution_count": 17,
     "metadata": {},
     "output_type": "execute_result"
    },
    {
     "data": {
      "image/png": "[encoded data removed]",
      "text/plain": [
       "<matplotlib.figure.Figure at 0x7f34af468610>"
      ]
     },
     "metadata": {},
     "output_type": "display_data"
    }
   ],
   "source": [
    "plt.ylim(bottom=0)\n",
    "plt.xlabel('Epoch')\n",
    "plt.ylabel('Loss')\n",
    "plt.title('Training Error by Epoch')\n",
    "plt.plot(my_fit.history['val_loss'])\n",
    "plt.plot(my_fit.history['loss'])"
   ]
  },
  {
   "cell_type": "code",
   "execution_count": null,
   "metadata": {
    "collapsed": true
   },
   "outputs": [],
   "source": []
  }
 ],
 "metadata": {
  "kernelspec": {
   "display_name": "Python 2",
   "language": "python",
   "name": "python2"
  },
  "language_info": {
   "codemirror_mode": {
    "name": "ipython",
    "version": 2
   },
   "file_extension": ".py",
   "mimetype": "text/x-python",
   "name": "python",
   "nbconvert_exporter": "python",
   "pygments_lexer": "ipython2",
   "version": "2.7.9"
  }
 },
 "nbformat": 4,
 "nbformat_minor": 0
}
