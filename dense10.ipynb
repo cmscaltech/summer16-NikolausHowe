{
 "cells": [
  {
   "cell_type": "markdown",
   "metadata": {},
   "source": [
    "# Fully Connected NN"
   ]
  },
  {
   "cell_type": "code",
   "execution_count": 2,
   "metadata": {
    "collapsed": false
   },
   "outputs": [
    {
     "name": "stdout",
     "output_type": "stream",
     "text": [
      "Couldn't import dot_parser, loading of dot files will not be possible.\n",
      "using"
     ]
    },
    {
     "name": "stderr",
     "output_type": "stream",
     "text": [
      "Using gpu device 0: GeForce GTX TITAN X (CNMeM is disabled, cuDNN not available)\n",
      "Using Theano backend.\n"
     ]
    },
    {
     "name": "stdout",
     "output_type": "stream",
     "text": [
      " gpu0\n"
     ]
    }
   ],
   "source": [
    "# Import functions\n",
    "import setGPU0\n",
    "from io_functions import *\n",
    "from draw_functions import *"
   ]
  },
  {
   "cell_type": "code",
   "execution_count": 3,
   "metadata": {
    "collapsed": true
   },
   "outputs": [],
   "source": [
    "%matplotlib inline\n",
    "import matplotlib.pyplot as plt"
   ]
  },
  {
   "cell_type": "markdown",
   "metadata": {},
   "source": [
    "## Load the gammas and pi0s as nparrays of 20x20x25 event arrays"
   ]
  },
  {
   "cell_type": "code",
   "execution_count": 3,
   "metadata": {
    "collapsed": false,
    "scrolled": true
   },
   "outputs": [],
   "source": [
    "# Get the datasets for the first time\n",
    "#signal = get_dataset('/data/vlimant/LCD/Gamma100GeV')\n",
    "#bkg = get_dataset('/data/vlimant/LCD/Pi0100GeV')\n",
    "\n",
    "# Save the datasets for faster future loading\n",
    "#save_dataset(\"/data/vlimant/LCD/Gamma100GeV\", signal)\n",
    "#save_dataset(\"/data/vlimant/LCD/Pi0100GeV\", bkg)"
   ]
  },
  {
   "cell_type": "code",
   "execution_count": 4,
   "metadata": {
    "collapsed": false
   },
   "outputs": [],
   "source": [
    "# Load the datasets\n",
    "#signal = load_dataset(\"/data/vlimant/LCD/Gamma100GeV\")\n",
    "#bkg = load_dataset(\"/data/vlimant/LCD/Pi0100GeV\")"
   ]
  },
  {
   "cell_type": "markdown",
   "metadata": {},
   "source": [
    "## Prepare the data"
   ]
  },
  {
   "cell_type": "code",
   "execution_count": 4,
   "metadata": {
    "collapsed": false
   },
   "outputs": [],
   "source": [
    "# 1 is signal; 0 is background\n",
    "train_data, test_data, train_labels, test_labels = train_test(shape=(10000,), split=0.33)"
   ]
  },
  {
   "cell_type": "markdown",
   "metadata": {},
   "source": [
    "## Create and train the model"
   ]
  },
  {
   "cell_type": "code",
   "execution_count": 8,
   "metadata": {
    "collapsed": false
   },
   "outputs": [],
   "source": [
    "# Construct and compile a network\n",
    "model = Sequential()\n",
    "model.add(Dense(10, input_dim=10000, activation='sigmoid'))\n",
    "model.add(Dropout(0.5))\n",
    "model.add(Dense(10, activation='sigmoid'))\n",
    "model.add(Dropout(0.5))\n",
    "model.add(Dense(1, init='uniform', activation='sigmoid'))\n",
    "model.compile(loss='binary_crossentropy', optimizer='sgd')"
   ]
  },
  {
   "cell_type": "code",
   "execution_count": 121,
   "metadata": {
    "collapsed": false,
    "scrolled": true
   },
   "outputs": [
    {
     "name": "stdout",
     "output_type": "stream",
     "text": [
      "Epoch 1/10\n",
      "54236/54236 [==============================] - 2s - loss: 0.6801     \n",
      "Epoch 2/10\n",
      "54236/54236 [==============================] - 2s - loss: 0.6700     \n",
      "Epoch 3/10\n",
      "54236/54236 [==============================] - 2s - loss: 0.6582     \n",
      "Epoch 4/10\n",
      "54236/54236 [==============================] - 2s - loss: 0.6438     \n",
      "Epoch 5/10\n",
      "54236/54236 [==============================] - 2s - loss: 0.6313     \n",
      "Epoch 6/10\n",
      "54236/54236 [==============================] - 2s - loss: 0.6173     \n",
      "Epoch 7/10\n",
      "54236/54236 [==============================] - 2s - loss: 0.6036     \n",
      "Epoch 8/10\n",
      "54236/54236 [==============================] - 2s - loss: 0.5916     \n",
      "Epoch 9/10\n",
      "54236/54236 [==============================] - 2s - loss: 0.5792     \n",
      "Epoch 10/10\n",
      "54236/54236 [==============================] - 2s - loss: 0.5691     \n"
     ]
    }
   ],
   "source": [
    "# Train the network\n",
    "my_fit = model.fit(train_data, train_labels, nb_epoch=10, batch_size=100, verbose=1)"
   ]
  },
  {
   "cell_type": "markdown",
   "metadata": {},
   "source": [
    "## Create a model using the function api"
   ]
  },
  {
   "cell_type": "code",
   "execution_count": 153,
   "metadata": {
    "collapsed": false
   },
   "outputs": [],
   "source": [
    "from keras.models import Model\n",
    "from keras.layers import Input, Dense\n",
    "i = Input(shape=(10000,))\n",
    "d = Dense(10, activation='sigmoid')(i)\n",
    "dp = Dropout(0.5)(d)\n",
    "o = Dense(1,activation='sigmoid')(dp)"
   ]
  },
  {
   "cell_type": "code",
   "execution_count": 154,
   "metadata": {
    "collapsed": false
   },
   "outputs": [],
   "source": [
    "m_model = Model(input=i, output=o)\n",
    "m_model.compile(loss='binary_crossentropy', optimizer='sgd')\n",
    "#m_model.summary()"
   ]
  },
  {
   "cell_type": "code",
   "execution_count": 155,
   "metadata": {
    "collapsed": false
   },
   "outputs": [
    {
     "name": "stdout",
     "output_type": "stream",
     "text": [
      "Epoch 1/100\n",
      "54236/54236 [==============================] - 2s - loss: 0.6166     \n",
      "Epoch 2/100\n",
      "54236/54236 [==============================] - 1s - loss: 0.5240     \n",
      "Epoch 3/100\n",
      "54236/54236 [==============================] - 1s - loss: 0.4764     \n",
      "Epoch 4/100\n",
      "54236/54236 [==============================] - 1s - loss: 0.4538     \n",
      "Epoch 5/100\n",
      "54236/54236 [==============================] - 1s - loss: 0.4420     \n",
      "Epoch 6/100\n",
      "54236/54236 [==============================] - 1s - loss: 0.4344     \n",
      "Epoch 7/100\n",
      "54236/54236 [==============================] - 1s - loss: 0.4251     \n",
      "Epoch 8/100\n",
      "54236/54236 [==============================] - 1s - loss: 0.4182     \n",
      "Epoch 9/100\n",
      "54236/54236 [==============================] - 1s - loss: 0.4158     \n",
      "Epoch 10/100\n",
      "54236/54236 [==============================] - 1s - loss: 0.4123     \n",
      "Epoch 11/100\n",
      "54236/54236 [==============================] - 1s - loss: 0.4091     \n",
      "Epoch 12/100\n",
      "54236/54236 [==============================] - 1s - loss: 0.4077     \n",
      "Epoch 13/100\n",
      "54236/54236 [==============================] - 1s - loss: 0.4040     \n",
      "Epoch 14/100\n",
      "54236/54236 [==============================] - 1s - loss: 0.4013     \n",
      "Epoch 15/100\n",
      "54236/54236 [==============================] - 1s - loss: 0.3998     \n",
      "Epoch 16/100\n",
      "54236/54236 [==============================] - 1s - loss: 0.3994     \n",
      "Epoch 17/100\n",
      "54236/54236 [==============================] - 1s - loss: 0.3955     \n",
      "Epoch 18/100\n",
      "54236/54236 [==============================] - 1s - loss: 0.3985     \n",
      "Epoch 19/100\n",
      "54236/54236 [==============================] - 1s - loss: 0.3916     \n",
      "Epoch 20/100\n",
      "54236/54236 [==============================] - 1s - loss: 0.3915     \n",
      "Epoch 21/100\n",
      "54236/54236 [==============================] - 1s - loss: 0.3935     \n",
      "Epoch 22/100\n",
      "54236/54236 [==============================] - 1s - loss: 0.3868     \n",
      "Epoch 23/100\n",
      "54236/54236 [==============================] - 1s - loss: 0.3901     \n",
      "Epoch 24/100\n",
      "54236/54236 [==============================] - 1s - loss: 0.3863     \n",
      "Epoch 25/100\n",
      "54236/54236 [==============================] - 1s - loss: 0.3858     \n",
      "Epoch 26/100\n",
      "54236/54236 [==============================] - 1s - loss: 0.3858     \n",
      "Epoch 27/100\n",
      "54236/54236 [==============================] - 1s - loss: 0.3888     \n",
      "Epoch 28/100\n",
      "54236/54236 [==============================] - 1s - loss: 0.3880     \n",
      "Epoch 29/100\n",
      "54236/54236 [==============================] - 1s - loss: 0.3808     \n",
      "Epoch 30/100\n",
      "54236/54236 [==============================] - 1s - loss: 0.3790     \n",
      "Epoch 31/100\n",
      "54236/54236 [==============================] - 1s - loss: 0.3831     \n",
      "Epoch 32/100\n",
      "54236/54236 [==============================] - 1s - loss: 0.3821     \n",
      "Epoch 33/100\n",
      "54236/54236 [==============================] - 1s - loss: 0.3843     \n",
      "Epoch 34/100\n",
      "54236/54236 [==============================] - 1s - loss: 0.3803     \n",
      "Epoch 35/100\n",
      "54236/54236 [==============================] - 1s - loss: 0.3801     \n",
      "Epoch 36/100\n",
      "54236/54236 [==============================] - 1s - loss: 0.3778     \n",
      "Epoch 37/100\n",
      "54236/54236 [==============================] - 1s - loss: 0.3777     \n",
      "Epoch 38/100\n",
      "54236/54236 [==============================] - 1s - loss: 0.3758     \n",
      "Epoch 39/100\n",
      "54236/54236 [==============================] - 1s - loss: 0.3788     \n",
      "Epoch 40/100\n",
      "54236/54236 [==============================] - 1s - loss: 0.3767     \n",
      "Epoch 41/100\n",
      "54236/54236 [==============================] - 1s - loss: 0.3788     \n",
      "Epoch 42/100\n",
      "54236/54236 [==============================] - 1s - loss: 0.3731     \n",
      "Epoch 43/100\n",
      "54236/54236 [==============================] - 1s - loss: 0.3754     \n",
      "Epoch 44/100\n",
      "54236/54236 [==============================] - 1s - loss: 0.3743     \n",
      "Epoch 45/100\n",
      "54236/54236 [==============================] - 1s - loss: 0.3723     \n",
      "Epoch 46/100\n",
      "54236/54236 [==============================] - 1s - loss: 0.3711     \n",
      "Epoch 47/100\n",
      "54236/54236 [==============================] - 1s - loss: 0.3736     \n",
      "Epoch 48/100\n",
      "54236/54236 [==============================] - 1s - loss: 0.3750     \n",
      "Epoch 49/100\n",
      "54236/54236 [==============================] - 1s - loss: 0.3786     \n",
      "Epoch 50/100\n",
      "54236/54236 [==============================] - 1s - loss: 0.3722     \n",
      "Epoch 51/100\n",
      "54236/54236 [==============================] - 1s - loss: 0.3719     \n",
      "Epoch 52/100\n",
      "54236/54236 [==============================] - 1s - loss: 0.3737     \n",
      "Epoch 53/100\n",
      "54236/54236 [==============================] - 1s - loss: 0.3692     \n",
      "Epoch 54/100\n",
      "54236/54236 [==============================] - 1s - loss: 0.3693     \n",
      "Epoch 55/100\n",
      "54236/54236 [==============================] - 1s - loss: 0.3688     \n",
      "Epoch 56/100\n",
      "54236/54236 [==============================] - 1s - loss: 0.3694     \n",
      "Epoch 57/100\n",
      "54236/54236 [==============================] - 1s - loss: 0.3682     \n",
      "Epoch 58/100\n",
      "54236/54236 [==============================] - 1s - loss: 0.3708     \n",
      "Epoch 59/100\n",
      "54236/54236 [==============================] - 1s - loss: 0.3716     \n",
      "Epoch 60/100\n",
      "54236/54236 [==============================] - 1s - loss: 0.3679     \n",
      "Epoch 61/100\n",
      "54236/54236 [==============================] - 1s - loss: 0.3699     \n",
      "Epoch 62/100\n",
      "54236/54236 [==============================] - 1s - loss: 0.3709     \n",
      "Epoch 63/100\n",
      "54236/54236 [==============================] - 1s - loss: 0.3660     \n",
      "Epoch 64/100\n",
      "54236/54236 [==============================] - 1s - loss: 0.3648     \n",
      "Epoch 65/100\n",
      "54236/54236 [==============================] - 1s - loss: 0.3655     \n",
      "Epoch 66/100\n",
      "54236/54236 [==============================] - 1s - loss: 0.3666     \n",
      "Epoch 67/100\n",
      "54236/54236 [==============================] - 1s - loss: 0.3648     \n",
      "Epoch 68/100\n",
      "54236/54236 [==============================] - 1s - loss: 0.3647     \n",
      "Epoch 69/100\n",
      "54236/54236 [==============================] - 1s - loss: 0.3683     \n",
      "Epoch 70/100\n",
      "54236/54236 [==============================] - 1s - loss: 0.3638     \n",
      "Epoch 71/100\n",
      "54236/54236 [==============================] - 1s - loss: 0.3631     \n",
      "Epoch 72/100\n",
      "54236/54236 [==============================] - 1s - loss: 0.3614     \n",
      "Epoch 73/100\n",
      "54236/54236 [==============================] - 1s - loss: 0.3628     \n",
      "Epoch 74/100\n",
      "54236/54236 [==============================] - 1s - loss: 0.3627     \n",
      "Epoch 75/100\n",
      "54236/54236 [==============================] - 1s - loss: 0.3633     \n",
      "Epoch 76/100\n",
      "54236/54236 [==============================] - 1s - loss: 0.3612     \n",
      "Epoch 77/100\n",
      "54236/54236 [==============================] - 1s - loss: 0.3593     \n",
      "Epoch 78/100\n",
      "54236/54236 [==============================] - 1s - loss: 0.3623     \n",
      "Epoch 79/100\n",
      "54236/54236 [==============================] - 1s - loss: 0.3632     \n",
      "Epoch 80/100\n",
      "54236/54236 [==============================] - 1s - loss: 0.3621     \n",
      "Epoch 81/100\n",
      "54236/54236 [==============================] - 1s - loss: 0.3617     \n",
      "Epoch 82/100\n",
      "54236/54236 [==============================] - 1s - loss: 0.3623     \n",
      "Epoch 83/100\n",
      "54236/54236 [==============================] - 1s - loss: 0.3615     \n",
      "Epoch 84/100\n",
      "54236/54236 [==============================] - 1s - loss: 0.3615     \n",
      "Epoch 85/100\n",
      "54236/54236 [==============================] - 1s - loss: 0.3601     \n",
      "Epoch 86/100\n",
      "54236/54236 [==============================] - 1s - loss: 0.3623     \n",
      "Epoch 87/100\n",
      "54236/54236 [==============================] - 1s - loss: 0.3615     \n",
      "Epoch 88/100\n",
      "54236/54236 [==============================] - 1s - loss: 0.3589     \n",
      "Epoch 89/100\n",
      "54236/54236 [==============================] - 1s - loss: 0.3594     \n",
      "Epoch 90/100\n",
      "54236/54236 [==============================] - 1s - loss: 0.3620     \n",
      "Epoch 91/100\n",
      "54236/54236 [==============================] - 1s - loss: 0.3550     \n",
      "Epoch 92/100\n",
      "54236/54236 [==============================] - 1s - loss: 0.3578     \n",
      "Epoch 93/100\n",
      "54236/54236 [==============================] - 1s - loss: 0.3603     \n",
      "Epoch 94/100\n",
      "54236/54236 [==============================] - 1s - loss: 0.3554     \n",
      "Epoch 95/100\n",
      "54236/54236 [==============================] - 1s - loss: 0.3583     \n",
      "Epoch 96/100\n",
      "54236/54236 [==============================] - 1s - loss: 0.3539     \n",
      "Epoch 97/100\n",
      "54236/54236 [==============================] - 1s - loss: 0.3567     \n",
      "Epoch 98/100\n",
      "54236/54236 [==============================] - 1s - loss: 0.3659     \n",
      "Epoch 99/100\n",
      "54236/54236 [==============================] - 1s - loss: 0.3587     \n",
      "Epoch 100/100\n",
      "54236/54236 [==============================] - 1s - loss: 0.3567     \n"
     ]
    },
    {
     "data": {
      "text/plain": [
       "<keras.callbacks.History at 0x7f59e18a9710>"
      ]
     },
     "execution_count": 155,
     "metadata": {},
     "output_type": "execute_result"
    }
   ],
   "source": [
    "m_model.fit(train_data, train_labels, nb_epoch=100, batch_size=100, verbose=1)"
   ]
  },
  {
   "cell_type": "code",
   "execution_count": 19,
   "metadata": {
    "collapsed": true
   },
   "outputs": [],
   "source": [
    "# Construct and compile a network\n",
    "bmodel = Sequential()\n",
    "bmodel.add(Dense(30, input_dim=10000, activation='sigmoid'))\n",
    "bmodel.add(Dropout(0.5))\n",
    "bmodel.add(Dense(30, activation='sigmoid'))\n",
    "bmodel.add(Dropout(0.5))\n",
    "bmodel.add(Dense(1, init='uniform', activation='sigmoid'))\n",
    "bmodel.compile(loss='binary_crossentropy', optimizer='sgd')"
   ]
  },
  {
   "cell_type": "code",
   "execution_count": 27,
   "metadata": {
    "collapsed": false,
    "scrolled": true
   },
   "outputs": [
    {
     "name": "stdout",
     "output_type": "stream",
     "text": [
      "Epoch 1/100\n",
      "54236/54236 [==============================] - 2s - loss: 0.3662     \n",
      "Epoch 2/100\n",
      "54236/54236 [==============================] - 2s - loss: 0.3597     \n",
      "Epoch 3/100\n",
      "54236/54236 [==============================] - 2s - loss: 0.3558     \n",
      "Epoch 4/100\n",
      "54236/54236 [==============================] - 2s - loss: 0.3521     \n",
      "Epoch 5/100\n",
      "54236/54236 [==============================] - 2s - loss: 0.3513     \n",
      "Epoch 6/100\n",
      "54236/54236 [==============================] - 2s - loss: 0.3478     \n",
      "Epoch 7/100\n",
      "54236/54236 [==============================] - 2s - loss: 0.3482     \n",
      "Epoch 8/100\n",
      "54236/54236 [==============================] - 2s - loss: 0.3421     \n",
      "Epoch 9/100\n",
      "54236/54236 [==============================] - 2s - loss: 0.3409     \n",
      "Epoch 10/100\n",
      "54236/54236 [==============================] - 2s - loss: 0.3367     \n",
      "Epoch 11/100\n",
      "54236/54236 [==============================] - 2s - loss: 0.3362     \n",
      "Epoch 12/100\n",
      "54236/54236 [==============================] - 2s - loss: 0.3347     \n",
      "Epoch 13/100\n",
      "54236/54236 [==============================] - 2s - loss: 0.3324     \n",
      "Epoch 14/100\n",
      "54236/54236 [==============================] - 2s - loss: 0.3272     \n",
      "Epoch 15/100\n",
      "54236/54236 [==============================] - 2s - loss: 0.3283     \n",
      "Epoch 16/100\n",
      "54236/54236 [==============================] - 2s - loss: 0.3240     \n",
      "Epoch 17/100\n",
      "54236/54236 [==============================] - 2s - loss: 0.3260     \n",
      "Epoch 18/100\n",
      "54236/54236 [==============================] - 2s - loss: 0.3238     \n",
      "Epoch 19/100\n",
      "54236/54236 [==============================] - 2s - loss: 0.3207     \n",
      "Epoch 20/100\n",
      "54236/54236 [==============================] - 2s - loss: 0.3166     \n",
      "Epoch 21/100\n",
      "54236/54236 [==============================] - 2s - loss: 0.3178     \n",
      "Epoch 22/100\n",
      "54236/54236 [==============================] - 2s - loss: 0.3160     \n",
      "Epoch 23/100\n",
      "54236/54236 [==============================] - 2s - loss: 0.3160     \n",
      "Epoch 24/100\n",
      "54236/54236 [==============================] - 2s - loss: 0.3117     \n",
      "Epoch 25/100\n",
      "54236/54236 [==============================] - 2s - loss: 0.3119     \n",
      "Epoch 26/100\n",
      "54236/54236 [==============================] - 2s - loss: 0.3112     \n",
      "Epoch 27/100\n",
      "54236/54236 [==============================] - 2s - loss: 0.3097     \n",
      "Epoch 28/100\n",
      "54236/54236 [==============================] - 2s - loss: 0.3072     \n",
      "Epoch 29/100\n",
      "54236/54236 [==============================] - 2s - loss: 0.3033     \n",
      "Epoch 30/100\n",
      "54236/54236 [==============================] - 2s - loss: 0.3078     \n",
      "Epoch 31/100\n",
      "54236/54236 [==============================] - 2s - loss: 0.3076     \n",
      "Epoch 32/100\n",
      "54236/54236 [==============================] - 2s - loss: 0.3020     \n",
      "Epoch 33/100\n",
      "54236/54236 [==============================] - 2s - loss: 0.3030     \n",
      "Epoch 34/100\n",
      "54236/54236 [==============================] - 2s - loss: 0.3029     \n",
      "Epoch 35/100\n",
      "54236/54236 [==============================] - 2s - loss: 0.2993     \n",
      "Epoch 36/100\n",
      "54236/54236 [==============================] - 2s - loss: 0.2993     \n",
      "Epoch 37/100\n",
      "54236/54236 [==============================] - 2s - loss: 0.2971     \n",
      "Epoch 38/100\n",
      "54236/54236 [==============================] - 2s - loss: 0.2983     \n",
      "Epoch 39/100\n",
      "54236/54236 [==============================] - 2s - loss: 0.2979     \n",
      "Epoch 40/100\n",
      "54236/54236 [==============================] - 2s - loss: 0.2945     \n",
      "Epoch 41/100\n",
      "54236/54236 [==============================] - 2s - loss: 0.2956     \n",
      "Epoch 42/100\n",
      "54236/54236 [==============================] - 2s - loss: 0.2931     \n",
      "Epoch 43/100\n",
      "54236/54236 [==============================] - 2s - loss: 0.2942     \n",
      "Epoch 44/100\n",
      "54236/54236 [==============================] - 2s - loss: 0.2925     \n",
      "Epoch 45/100\n",
      "54236/54236 [==============================] - 2s - loss: 0.2929     \n",
      "Epoch 46/100\n",
      "54236/54236 [==============================] - 2s - loss: 0.2905     \n",
      "Epoch 47/100\n",
      "54236/54236 [==============================] - 2s - loss: 0.2905     \n",
      "Epoch 48/100\n",
      "54236/54236 [==============================] - 2s - loss: 0.2882     \n",
      "Epoch 49/100\n",
      "54236/54236 [==============================] - 2s - loss: 0.2896     \n",
      "Epoch 50/100\n",
      "54236/54236 [==============================] - 2s - loss: 0.2892     \n",
      "Epoch 51/100\n",
      "54236/54236 [==============================] - 2s - loss: 0.2890     \n",
      "Epoch 52/100\n",
      "54236/54236 [==============================] - 2s - loss: 0.2841     \n",
      "Epoch 53/100\n",
      "54236/54236 [==============================] - 2s - loss: 0.2882     \n",
      "Epoch 54/100\n",
      "54236/54236 [==============================] - 2s - loss: 0.2850     \n",
      "Epoch 55/100\n",
      "54236/54236 [==============================] - 2s - loss: 0.2871     \n",
      "Epoch 56/100\n",
      "54236/54236 [==============================] - 2s - loss: 0.2851     \n",
      "Epoch 57/100\n",
      "54236/54236 [==============================] - 2s - loss: 0.2823     \n",
      "Epoch 58/100\n",
      "54236/54236 [==============================] - 2s - loss: 0.2841     \n",
      "Epoch 59/100\n",
      "54236/54236 [==============================] - 2s - loss: 0.2825     \n",
      "Epoch 60/100\n",
      "54236/54236 [==============================] - 2s - loss: 0.2832     \n",
      "Epoch 61/100\n",
      "54236/54236 [==============================] - 2s - loss: 0.2804     \n",
      "Epoch 62/100\n",
      "54236/54236 [==============================] - 2s - loss: 0.2807     \n",
      "Epoch 63/100\n",
      "54236/54236 [==============================] - 2s - loss: 0.2809     \n",
      "Epoch 64/100\n",
      "54236/54236 [==============================] - 2s - loss: 0.2801     \n",
      "Epoch 65/100\n",
      "54236/54236 [==============================] - 2s - loss: 0.2807     \n",
      "Epoch 66/100\n",
      "54236/54236 [==============================] - 2s - loss: 0.2785     \n",
      "Epoch 67/100\n",
      "54236/54236 [==============================] - 2s - loss: 0.2752     \n",
      "Epoch 68/100\n",
      "54236/54236 [==============================] - 2s - loss: 0.2779     \n",
      "Epoch 69/100\n",
      "54236/54236 [==============================] - 2s - loss: 0.2789     \n",
      "Epoch 70/100\n",
      "54236/54236 [==============================] - 2s - loss: 0.2759     \n",
      "Epoch 71/100\n",
      "54236/54236 [==============================] - 2s - loss: 0.2759     \n",
      "Epoch 72/100\n",
      "54236/54236 [==============================] - 2s - loss: 0.2774     \n",
      "Epoch 73/100\n",
      "54236/54236 [==============================] - 2s - loss: 0.2757     \n",
      "Epoch 74/100\n",
      "54236/54236 [==============================] - 2s - loss: 0.2729     \n",
      "Epoch 75/100\n",
      "54236/54236 [==============================] - 2s - loss: 0.2698     \n",
      "Epoch 76/100\n",
      "54236/54236 [==============================] - 2s - loss: 0.2763     \n",
      "Epoch 77/100\n",
      "54236/54236 [==============================] - 2s - loss: 0.2690     \n",
      "Epoch 78/100\n",
      "54236/54236 [==============================] - 2s - loss: 0.2760     \n",
      "Epoch 79/100\n",
      "54236/54236 [==============================] - 2s - loss: 0.2756     \n",
      "Epoch 80/100\n",
      "54236/54236 [==============================] - 2s - loss: 0.2729     \n",
      "Epoch 81/100\n",
      "54236/54236 [==============================] - 2s - loss: 0.2731     \n",
      "Epoch 82/100\n",
      "54236/54236 [==============================] - 2s - loss: 0.2700     \n",
      "Epoch 83/100\n",
      "54236/54236 [==============================] - 2s - loss: 0.2701     \n",
      "Epoch 84/100\n",
      "54236/54236 [==============================] - 2s - loss: 0.2721     \n",
      "Epoch 85/100\n",
      "54236/54236 [==============================] - 2s - loss: 0.2703     \n",
      "Epoch 86/100\n",
      "54236/54236 [==============================] - 2s - loss: 0.2665     \n",
      "Epoch 87/100\n",
      "54236/54236 [==============================] - 2s - loss: 0.2658     \n",
      "Epoch 88/100\n",
      "54236/54236 [==============================] - 2s - loss: 0.2674     \n",
      "Epoch 89/100\n",
      "54236/54236 [==============================] - 2s - loss: 0.2639     \n",
      "Epoch 90/100\n",
      "54236/54236 [==============================] - 2s - loss: 0.2677     \n",
      "Epoch 91/100\n",
      "54236/54236 [==============================] - 2s - loss: 0.2700     \n",
      "Epoch 92/100\n",
      "54236/54236 [==============================] - 2s - loss: 0.2690     \n",
      "Epoch 93/100\n",
      "54236/54236 [==============================] - 2s - loss: 0.2660     \n",
      "Epoch 94/100\n",
      "54236/54236 [==============================] - 2s - loss: 0.2660     \n",
      "Epoch 95/100\n",
      "54236/54236 [==============================] - 2s - loss: 0.2676     \n",
      "Epoch 96/100\n",
      "54236/54236 [==============================] - 2s - loss: 0.2645     \n",
      "Epoch 97/100\n",
      "54236/54236 [==============================] - 2s - loss: 0.2660     \n",
      "Epoch 98/100\n",
      "54236/54236 [==============================] - 2s - loss: 0.2621     \n",
      "Epoch 99/100\n",
      "54236/54236 [==============================] - 2s - loss: 0.2638     \n",
      "Epoch 100/100\n",
      "54236/54236 [==============================] - 2s - loss: 0.2638     \n"
     ]
    }
   ],
   "source": [
    "my_bfit = bmodel.fit(train_data, train_labels, nb_epoch=100, batch_size=100, verbose=1)"
   ]
  },
  {
   "cell_type": "markdown",
   "metadata": {},
   "source": [
    "## Visualize the classification"
   ]
  },
  {
   "cell_type": "markdown",
   "metadata": {},
   "source": [
    "### Classification Histogram"
   ]
  },
  {
   "cell_type": "code",
   "execution_count": 122,
   "metadata": {
    "collapsed": false
   },
   "outputs": [
    {
     "data": {
      "image/png": "[encoded data removed]",
      "text/plain": [
       "<matplotlib.figure.Figure at 0x7f595ed18810>"
      ]
     },
     "metadata": {},
     "output_type": "display_data"
    }
   ],
   "source": [
    "# Draw the classification histogram\n",
    "draw_histogram(train_data, train_labels, model)"
   ]
  },
  {
   "cell_type": "code",
   "execution_count": 31,
   "metadata": {
    "collapsed": false
   },
   "outputs": [
    {
     "data": {
      "text/plain": [
       "(26714, 10000)"
      ]
     },
     "execution_count": 31,
     "metadata": {},
     "output_type": "execute_result"
    }
   ],
   "source": [
    "test_data.shape"
   ]
  },
  {
   "cell_type": "code",
   "execution_count": 89,
   "metadata": {
    "collapsed": false
   },
   "outputs": [],
   "source": [
    "x=test_data.reshape((26714, 20,20,25))"
   ]
  },
  {
   "cell_type": "code",
   "execution_count": 90,
   "metadata": {
    "collapsed": false
   },
   "outputs": [
    {
     "data": {
      "text/plain": [
       "(26714, 20, 25)"
      ]
     },
     "execution_count": 90,
     "metadata": {},
     "output_type": "execute_result"
    }
   ],
   "source": [
    "layer_E = np.sum( x, axis=1)\n",
    "layer_E.shape"
   ]
  },
  {
   "cell_type": "code",
   "execution_count": 91,
   "metadata": {
    "collapsed": false
   },
   "outputs": [
    {
     "data": {
      "text/plain": [
       "(26714, 25)"
      ]
     },
     "execution_count": 91,
     "metadata": {},
     "output_type": "execute_result"
    }
   ],
   "source": [
    "layer_E = np.sum( layer_E, axis=1)\n",
    "layer_E.shape"
   ]
  },
  {
   "cell_type": "code",
   "execution_count": 98,
   "metadata": {
    "collapsed": false
   },
   "outputs": [],
   "source": [
    "ave_z = np.sum(layer_E*range(1,26), axis=1) / np.sum(layer_E,axis=1)"
   ]
  },
  {
   "cell_type": "code",
   "execution_count": 99,
   "metadata": {
    "collapsed": false
   },
   "outputs": [
    {
     "data": {
      "text/plain": [
       "(26714,)"
      ]
     },
     "execution_count": 99,
     "metadata": {},
     "output_type": "execute_result"
    }
   ],
   "source": [
    "ave_z.shape"
   ]
  },
  {
   "cell_type": "code",
   "execution_count": 123,
   "metadata": {
    "collapsed": true
   },
   "outputs": [],
   "source": [
    "pred = model.predict( test_data )"
   ]
  },
  {
   "cell_type": "code",
   "execution_count": 47,
   "metadata": {
    "collapsed": false
   },
   "outputs": [
    {
     "data": {
      "text/plain": [
       "(26714, 1)"
      ]
     },
     "execution_count": 47,
     "metadata": {},
     "output_type": "execute_result"
    }
   ],
   "source": [
    "pred."
   ]
  },
  {
   "cell_type": "code",
   "execution_count": 52,
   "metadata": {
    "collapsed": true
   },
   "outputs": [],
   "source": [
    "peak = np.where( abs(pred-0.5)<0.01)"
   ]
  },
  {
   "cell_type": "code",
   "execution_count": 104,
   "metadata": {
    "collapsed": true
   },
   "outputs": [],
   "source": [
    "sel = np.where( test_labels==1)\n",
    "selb = np.where( test_labels==0)"
   ]
  },
  {
   "cell_type": "code",
   "execution_count": 50,
   "metadata": {
    "collapsed": false
   },
   "outputs": [
    {
     "data": {
      "image/png": "[encoded data removed]",
      "text/plain": [
       "<matplotlib.figure.Figure at 0x7f59df4e2550>"
      ]
     },
     "metadata": {},
     "output_type": "display_data"
    }
   ],
   "source": [
    "plt.hist( np.ravel(pred), bins=40)\n",
    "plt.show()"
   ]
  },
  {
   "cell_type": "code",
   "execution_count": 124,
   "metadata": {
    "collapsed": false
   },
   "outputs": [
    {
     "data": {
      "image/png": "[encoded data removed]",
      "text/plain": [
       "<matplotlib.figure.Figure at 0x7f59e5da5790>"
      ]
     },
     "metadata": {},
     "output_type": "display_data"
    }
   ],
   "source": [
    "plt.hist2d( np.ravel(pred), ave_z, bins=80)\n",
    "plt.show()"
   ]
  },
  {
   "cell_type": "code",
   "execution_count": 126,
   "metadata": {
    "collapsed": false
   },
   "outputs": [
    {
     "data": {
      "image/png": "[encoded data removed]",
      "text/plain": [
       "<matplotlib.figure.Figure at 0x7f58dd30bd90>"
      ]
     },
     "metadata": {},
     "output_type": "display_data"
    }
   ],
   "source": [
    "plt.hist( np.ravel(pred[sel]), bins=40)\n",
    "plt.show()"
   ]
  },
  {
   "cell_type": "code",
   "execution_count": 125,
   "metadata": {
    "collapsed": false
   },
   "outputs": [
    {
     "data": {
      "image/png": "[encoded data removed]",
      "text/plain": [
       "<matplotlib.figure.Figure at 0x7f595eb17750>"
      ]
     },
     "metadata": {},
     "output_type": "display_data"
    },
    {
     "data": {
      "image/png": "[encoded data removed]",
      "text/plain": [
       "<matplotlib.figure.Figure at 0x7f59e503b6d0>"
      ]
     },
     "metadata": {},
     "output_type": "display_data"
    }
   ],
   "source": [
    "b,c,d,e = plt.hist2d( np.ravel(pred[sel]), ave_z[sel], bins=80)\n",
    "plt.show()\n",
    "plt.hist2d( np.ravel(pred[selb]), ave_z[selb], bins=80)\n",
    "plt.show()"
   ]
  },
  {
   "cell_type": "code",
   "execution_count": 120,
   "metadata": {
    "collapsed": false
   },
   "outputs": [
    {
     "data": {
      "text/plain": [
       "(80,)"
      ]
     },
     "execution_count": 120,
     "metadata": {},
     "output_type": "execute_result"
    }
   ],
   "source": [
    "np.mean(b, axis=0).shape"
   ]
  },
  {
   "cell_type": "code",
   "execution_count": 37,
   "metadata": {
    "collapsed": false
   },
   "outputs": [
    {
     "data": {
      "image/png": "[encoded data removed]",
      "text/plain": [
       "<matplotlib.figure.Figure at 0x7f59df6b8350>"
      ]
     },
     "metadata": {},
     "output_type": "display_data"
    }
   ],
   "source": [
    "plt.hist( ave_z[np.where(test_labels==1)], label=\"1\", alpha=0.5)\n",
    "plt.hist( ave_z[np.where(test_labels==0)], label=\"0\", alpha=0.5)\n",
    "\n",
    "plt.show()"
   ]
  },
  {
   "cell_type": "code",
   "execution_count": 28,
   "metadata": {
    "collapsed": false
   },
   "outputs": [
    {
     "data": {
      "image/png": "[encoded data removed]",
      "text/plain": [
       "<matplotlib.figure.Figure at 0x7f8c1b0fa410>"
      ]
     },
     "metadata": {},
     "output_type": "display_data"
    }
   ],
   "source": [
    "draw_histogram(test_data, test_labels, model)"
   ]
  },
  {
   "cell_type": "code",
   "execution_count": 34,
   "metadata": {
    "collapsed": false
   },
   "outputs": [
    {
     "data": {
      "image/png": "[encoded data removed]",
      "text/plain": [
       "<matplotlib.figure.Figure at 0x7f8c5adff990>"
      ]
     },
     "metadata": {},
     "output_type": "display_data"
    }
   ],
   "source": [
    "draw_histogram(test_data, test_labels, bmodel)"
   ]
  },
  {
   "cell_type": "markdown",
   "metadata": {},
   "source": [
    "### ROC Curve"
   ]
  },
  {
   "cell_type": "code",
   "execution_count": 14,
   "metadata": {
    "collapsed": false
   },
   "outputs": [
    {
     "data": {
      "image/png": "[encoded data removed]",
      "text/plain": [
       "<matplotlib.figure.Figure at 0x7f8bdb8db110>"
      ]
     },
     "metadata": {},
     "output_type": "display_data"
    }
   ],
   "source": [
    "# Draw the roc curve\n",
    "draw_roc_curve(test_data, test_labels, model)"
   ]
  },
  {
   "cell_type": "code",
   "execution_count": 11,
   "metadata": {
    "collapsed": false
   },
   "outputs": [
    {
     "data": {
      "image/png": "[encoded data removed]",
      "text/plain": [
       "<matplotlib.figure.Figure at 0x7f8c5b130e90>"
      ]
     },
     "metadata": {},
     "output_type": "display_data"
    }
   ],
   "source": [
    "draw_roc_curve(train_data, train_labels, model)"
   ]
  },
  {
   "cell_type": "code",
   "execution_count": 33,
   "metadata": {
    "collapsed": false
   },
   "outputs": [
    {
     "data": {
      "image/png": "[encoded data removed]",
      "text/plain": [
       "<matplotlib.figure.Figure at 0x7f8c5afae150>"
      ]
     },
     "metadata": {},
     "output_type": "display_data"
    }
   ],
   "source": [
    "draw_roc_curve(train_data, train_labels, bmodel)"
   ]
  },
  {
   "cell_type": "markdown",
   "metadata": {},
   "source": [
    "### Loss Evolution"
   ]
  },
  {
   "cell_type": "code",
   "execution_count": 32,
   "metadata": {
    "collapsed": false
   },
   "outputs": [
    {
     "name": "stdout",
     "output_type": "stream",
     "text": [
      "____________________________________________________________________________________________________\n",
      "Layer (type)                       Output Shape        Param #     Connected to                     \n",
      "====================================================================================================\n",
      "dense_7 (Dense)                    (None, 30)          300030      dense_input_3[0][0]              \n",
      "____________________________________________________________________________________________________\n",
      "dropout_5 (Dropout)                (None, 30)          0           dense_7[0][0]                    \n",
      "____________________________________________________________________________________________________\n",
      "dense_8 (Dense)                    (None, 30)          930         dropout_5[0][0]                  \n",
      "____________________________________________________________________________________________________\n",
      "dropout_6 (Dropout)                (None, 30)          0           dense_8[0][0]                    \n",
      "____________________________________________________________________________________________________\n",
      "dense_9 (Dense)                    (None, 1)           31          dropout_6[0][0]                  \n",
      "====================================================================================================\n",
      "Total params: 300991\n",
      "____________________________________________________________________________________________________\n"
     ]
    }
   ],
   "source": [
    "bmodel.summary()"
   ]
  },
  {
   "cell_type": "code",
   "execution_count": 17,
   "metadata": {
    "collapsed": false
   },
   "outputs": [
    {
     "data": {
      "image/png": "[encoded data removed]",
      "text/plain": [
       "<matplotlib.figure.Figure at 0x7fad0ef592d0>"
      ]
     },
     "metadata": {},
     "output_type": "display_data"
    }
   ],
   "source": [
    "# Draw the loss history\n",
    "draw_loss_history(my_fit)"
   ]
  },
  {
   "cell_type": "code",
   "execution_count": 36,
   "metadata": {
    "collapsed": false
   },
   "outputs": [
    {
     "data": {
      "image/png": "[encoded data removed]",
      "text/plain": [
       "<matplotlib.figure.Figure at 0x7f8bdb73ac10>"
      ]
     },
     "metadata": {},
     "output_type": "display_data"
    }
   ],
   "source": [
    "draw_loss_history(my_bfit)"
   ]
  },
  {
   "cell_type": "code",
   "execution_count": null,
   "metadata": {
    "collapsed": true
   },
   "outputs": [],
   "source": []
  }
 ],
 "metadata": {
  "kernelspec": {
   "display_name": "Python 2",
   "language": "python",
   "name": "python2"
  },
  "language_info": {
   "codemirror_mode": {
    "name": "ipython",
    "version": 2
   },
   "file_extension": ".py",
   "mimetype": "text/x-python",
   "name": "python",
   "nbconvert_exporter": "python",
   "pygments_lexer": "ipython2",
   "version": "2.7.9"
  }
 },
 "nbformat": 4,
 "nbformat_minor": 0
}
