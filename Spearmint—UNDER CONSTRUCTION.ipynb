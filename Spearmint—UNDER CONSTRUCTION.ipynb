{
 "cells": [
  {
   "cell_type": "code",
   "execution_count": 1,
   "metadata": {
    "collapsed": false
   },
   "outputs": [
    {
     "name": "stderr",
     "output_type": "stream",
     "text": [
      "Using gpu device 0: GeForce GTX TITAN X (CNMeM is disabled, cuDNN not available)\n",
      "Using Theano backend.\n"
     ]
    },
    {
     "name": "stdout",
     "output_type": "stream",
     "text": [
      "Couldn't import dot_parser, loading of dot files will not be possible.\n",
      "using gpu0\n"
     ]
    }
   ],
   "source": [
    "import setGPU0\n",
    "import os\n",
    "from io_functions import *\n",
    "from draw_functions import *\n",
    "get_ipython().magic(u'matplotlib inline')\n",
    "import matplotlib.pyplot as plt\n",
    "from sklearn.metrics import roc_curve, auc\n",
    "#from keras.utils.visualize_util import plot, model_to_dot\n",
    "from IPython.display import SVG\n",
    "from keras.layers import Input, Dense, merge\n",
    "from keras.models import Model\n",
    "from keras.callbacks import ModelCheckpoint, EarlyStopping\n",
    "from niki_visual import *"
   ]
  },
  {
   "cell_type": "code",
   "execution_count": 2,
   "metadata": {
    "collapsed": true
   },
   "outputs": [],
   "source": [
    "def build_model(num_branch=0, conv_per_branch=1, filters=3, num_dense=1,\n",
    "                num_nodes=10, dropout=0.5, patience=5):\n",
    "    # Make the list of models\n",
    "    models = []\n",
    "    \n",
    "    # Initialize the models (model is the central, final, dense, merged one)\n",
    "    inputs = Input(shape=(1, 20, 20, 25), name='Input Layer')\n",
    "      \n",
    "    # Add in the convolutional branches and layers (if there are any)\n",
    "    if num_branch: # (check if there are any convolutional layers)\n",
    "        for i in range(num_branch):\n",
    "            for j in range(conv_per_branch):\n",
    "                # Default 3,3,4; increase based on branch/depth (I think this is the best way to do this?)\n",
    "                a, b, c = 3+i+j, 3+i+j, 4+i+j\n",
    "                # Only specify shape if it's the first layer of the branch\n",
    "                if not j:\n",
    "                    x = Convolution3D(filters, a, b, c,\n",
    "                                      input_shape = (1, 20, 20, 25), activation='relu',\n",
    "                                      name=str((a,b,c))+' 3D Conv, B%s'%i+' L%s'%j)(inputs)\n",
    "                else:\n",
    "                    x = Convolution3D(filters, a, b, c,\n",
    "                                      activation='relu', name=str((a,b,c))+' 3D Conv, B%s'%i+' L%s'%j)(x)\n",
    "            x = MaxPooling3D(name='MaxPooling3D, B%s'%i)(x)\n",
    "            models.append(Flatten(name='Flatten, B%s'%i)(x))\n",
    "            \n",
    "        # Combine the branches\n",
    "        x = merge(models, mode='concat', name='Merge Layer')\n",
    "                              \n",
    "        # Add in the dense layers\n",
    "        for i in range(num_dense):\n",
    "            x = Dense(num_nodes, activation='relu', name='Dense, '+'N%s '%num_nodes+'L%s'%i)(x)\n",
    "            x = Dropout(dropout, name='Dropout of %s'%dropout)(x)\n",
    "    else: # (no convolutional layers)\n",
    "        # Add in the dense layers\n",
    "        for i in range(num_dense):\n",
    "            x = Dense(num_nodes, activation='relu', input_dim=10000, name='Dense, '+'N%s '%num_nodes+'L%s'%i)(x)\n",
    "            x = Dropout(dropout, name='Dropout of %s'%dropout)(x)\n",
    "    \n",
    "    # Add output layer, compile, and return it\n",
    "    x = Dense(1, init='uniform', activation='sigmoid', name='Binary Output Layer')(x)\n",
    "    model = Model(input=inputs, output=x)\n",
    "    model.compile(loss='binary_crossentropy', optimizer='sgd')\n",
    "    return model"
   ]
  },
  {
   "cell_type": "code",
   "execution_count": 3,
   "metadata": {
    "collapsed": true
   },
   "outputs": [],
   "source": [
    "# Returns the loss given certain definining parameters\n",
    "def branin(num_branch, conv_per_branch, filters, num_dense, num_nodes, dropout, patience):\n",
    "    # Get the data\n",
    "    if conv_per_branch!=0:\n",
    "        train_data, test_data, train_labels, test_labels = train_test(shape=(1, 20, 20, 25), split=0.33)\n",
    "    else:\n",
    "        train_data, test_data, train_labels, test_labels = train_test(shape=(10000,), split=0.33)\n",
    "    \n",
    "    # Build the model\n",
    "    model = build_model(num_branch, conv_per_branch, filters, num_dense, num_nodes, dropout, patience)\n",
    "    #check = ModelCheckpoint(filepath=\"./tmp/test%s.hdf5\"%num_dense, verbose=1)\n",
    "    early = EarlyStopping(monitor='val_loss', patience=10, verbose=1, mode='auto')\n",
    "\n",
    "    # Train the network\n",
    "    my_fit = model.fit(train_data, train_labels, nb_epoch=10000, validation_split=0.2,\n",
    "                   batch_size=1000, verbose=1, callbacks=[early])#[check, early])\n",
    "\n",
    "    # Get the area under the curve for ROC curve on test set\n",
    "    pred = predictions[label][0].reshape(predictions[label][0].shape[0])\n",
    "    truth = predictions[label][1].astype(int)\n",
    "    fpr, tpr, _ = roc_curve(truth, pred)\n",
    "    roc_auc = auc(fpr, tpr)\n",
    "    \n",
    "    # Return the misclassification at \n",
    "    return float(roc_auc)"
   ]
  },
  {
   "cell_type": "code",
   "execution_count": 4,
   "metadata": {
    "collapsed": true
   },
   "outputs": [],
   "source": [
    "# Here is the main function\n",
    "def main(job_id, params):\n",
    "    print 'Anything printed here will end up in the output directory for job #%d' % job_id\n",
    "    print params\n",
    "    return branin(params['num_branch'], params['conv_per_branch'], params['filters'],\n",
    "                  params['num_dense'], params['num_nodes'], params['dropout'], params['patience'])"
   ]
  },
  {
   "cell_type": "code",
   "execution_count": null,
   "metadata": {
    "collapsed": true
   },
   "outputs": [],
   "source": []
  },
  {
   "cell_type": "code",
   "execution_count": null,
   "metadata": {
    "collapsed": true
   },
   "outputs": [],
   "source": []
  }
 ],
 "metadata": {
  "kernelspec": {
   "display_name": "Python 2",
   "language": "python",
   "name": "python2"
  },
  "language_info": {
   "codemirror_mode": {
    "name": "ipython",
    "version": 2
   },
   "file_extension": ".py",
   "mimetype": "text/x-python",
   "name": "python",
   "nbconvert_exporter": "python",
   "pygments_lexer": "ipython2",
   "version": "2.7.9"
  }
 },
 "nbformat": 4,
 "nbformat_minor": 0
}
