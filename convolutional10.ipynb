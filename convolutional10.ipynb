{
 "cells": [
  {
   "cell_type": "markdown",
   "metadata": {},
   "source": [
    "# Fully Connected NN"
   ]
  },
  {
   "cell_type": "code",
   "execution_count": 1,
   "metadata": {
    "collapsed": false
   },
   "outputs": [
    {
     "name": "stderr",
     "output_type": "stream",
     "text": [
      "Using Theano backend.\n",
      "Using gpu device 1: GeForce GTX TITAN X (CNMeM is disabled, cuDNN not available)"
     ]
    },
    {
     "name": "stdout",
     "output_type": "stream",
     "text": [
      "Couldn't import dot_parser, loading of dot files will not be possible.\n"
     ]
    },
    {
     "name": "stderr",
     "output_type": "stream",
     "text": [
      "\n"
     ]
    }
   ],
   "source": [
    "# Import io functions\n",
    "from io_functions import *"
   ]
  },
  {
   "cell_type": "markdown",
   "metadata": {},
   "source": [
    "## Load the gammas and pi0s as nparrays of 20x20x25 event arrays"
   ]
  },
  {
   "cell_type": "code",
   "execution_count": 2,
   "metadata": {
    "collapsed": false,
    "scrolled": true
   },
   "outputs": [],
   "source": [
    "# Get the datasets for the first time\n",
    "#signal = get_dataset('/data/vlimant/LCD/Gamma100GeV')\n",
    "#bkg = get_dataset('/data/vlimant/LCD/Pi0100GeV')\n",
    "\n",
    "# Save the datasets for faster future loading\n",
    "#save_dataset(\"/data/vlimant/LCD/Gamma100GeV\", signal)\n",
    "#save_dataset(\"/data/vlimant/LCD/Pi0100GeV\", bkg)"
   ]
  },
  {
   "cell_type": "code",
   "execution_count": 3,
   "metadata": {
    "collapsed": false
   },
   "outputs": [],
   "source": [
    "# Load the datasets\n",
    "signal = load_dataset(\"/data/vlimant/LCD/Gamma100GeV\")\n",
    "bkg = load_dataset(\"/data/vlimant/LCD/Pi0100GeV\")"
   ]
  },
  {
   "cell_type": "markdown",
   "metadata": {},
   "source": [
    "## Prepare the data"
   ]
  },
  {
   "cell_type": "code",
   "execution_count": 4,
   "metadata": {
    "collapsed": false
   },
   "outputs": [],
   "source": [
    "# 1 is signal, 0 is background\n",
    "X = np.concatenate( (signal, bkg), axis=0 )\n",
    "Y = np.zeros( (len(X)) )\n",
    "Y[:len(signal)] = 1\n",
    "p = np.random.permutation(len(X))\n",
    "X = X[p]\n",
    "Y = Y[p]\n",
    "X = X.reshape((X.shape[0], 1, 20, 20, 25))\n",
    "\n",
    "train_data, test_data, train_labels, test_labels = train_test_split(X, Y, test_size=0.33, random_state=42)"
   ]
  },
  {
   "cell_type": "markdown",
   "metadata": {},
   "source": [
    "## Create and train the model"
   ]
  },
  {
   "cell_type": "code",
   "execution_count": 9,
   "metadata": {
    "collapsed": false
   },
   "outputs": [
    {
     "name": "stdout",
     "output_type": "stream",
     "text": [
      "____________________________________________________________________________________________________\n",
      "Layer (type)                       Output Shape        Param #     Connected to                     \n",
      "====================================================================================================\n",
      "convolution3d_2 (Convolution3D)    (None, 3, 17, 17, 21243         convolution3d_input_2[0][0]      \n",
      "____________________________________________________________________________________________________\n",
      "maxpooling3d_2 (MaxPooling3D)      (None, 3, 8, 8, 10) 0           convolution3d_2[0][0]            \n",
      "____________________________________________________________________________________________________\n",
      "flatten_2 (Flatten)                (None, 1920)        0           maxpooling3d_2[0][0]             \n",
      "____________________________________________________________________________________________________\n",
      "dense_3 (Dense)                    (None, 10)          19210       flatten_2[0][0]                  \n",
      "____________________________________________________________________________________________________\n",
      "dropout_2 (Dropout)                (None, 10)          0           dense_3[0][0]                    \n",
      "____________________________________________________________________________________________________\n",
      "dense_4 (Dense)                    (None, 1)           11          dropout_2[0][0]                  \n",
      "====================================================================================================\n",
      "Total params: 19464\n",
      "____________________________________________________________________________________________________\n"
     ]
    }
   ],
   "source": [
    "# Convolutional Layers\n",
    "model = Sequential()\n",
    "model.add(Convolution3D(3, 4, 4, 5, input_shape = (1, 20, 20, 25), activation='relu'))\n",
    "model.add(MaxPooling3D())\n",
    "model.add(Flatten())\n",
    "\n",
    "# Dense layer\n",
    "model.add(Dense(10, activation='relu'))\n",
    "model.add(Dropout(0.5))\n",
    "model.add(Dense(1, init='uniform', activation='sigmoid'))\n",
    "\n",
    "# Compile model\n",
    "model.compile(loss='binary_crossentropy', optimizer='sgd')\n",
    "model.summary()"
   ]
  },
  {
   "cell_type": "code",
   "execution_count": null,
   "metadata": {
    "collapsed": false
   },
   "outputs": [
    {
     "name": "stdout",
     "output_type": "stream",
     "text": [
      "Epoch 1/100\n",
      "54236/54236 [==============================] - 60s - loss: 0.2481    \n",
      "Epoch 2/100\n",
      "19600/54236 [=========>....................] - ETA: 58s - loss: 0.2447"
     ]
    }
   ],
   "source": [
    "# Train the network\n",
    "model.fit(train_data, train_labels, nb_epoch=100, batch_size=100, verbose=1)"
   ]
  },
  {
   "cell_type": "markdown",
   "metadata": {},
   "source": [
    "## Visualize the classification"
   ]
  },
  {
   "cell_type": "markdown",
   "metadata": {},
   "source": [
    "### Classification Histogram"
   ]
  },
  {
   "cell_type": "code",
   "execution_count": null,
   "metadata": {
    "collapsed": false,
    "scrolled": true
   },
   "outputs": [],
   "source": [
    "# Get the test signal and background to make the histogram\n",
    "test_signal = test_data[np.where(test_labels==1)]\n",
    "test_bkg    = test_data[np.where(test_labels==0)]\n",
    "\n",
    "# Calculate the probabilities for the test sets\n",
    "p_signal    = model.predict(test_signal)\n",
    "p_bkg       = model.predict(test_bkg)\n",
    "\n",
    "# Draw classification histogram\n",
    "plt.hist(p_signal, 50, normed=1, facecolor='blue', alpha=0.4, label='gamma')\n",
    "plt.hist(p_bkg , 50, normed=1, facecolor='red' , alpha=0.4, label='pi0')\n",
    "plt.xlabel('Prediction')\n",
    "plt.ylabel('Probability')\n",
    "plt.title(r'$\\mathrm{Histogram\\ of\\ IQ:}\\ \\mu=100,\\ \\sigma=15$')\n",
    "plt.yscale('log')\n",
    "plt.grid(True)\n",
    "plt.legend(loc='upper right')\n",
    "plt.show()"
   ]
  },
  {
   "cell_type": "markdown",
   "metadata": {},
   "source": [
    "### ROC Curve"
   ]
  },
  {
   "cell_type": "code",
   "execution_count": null,
   "metadata": {
    "collapsed": false
   },
   "outputs": [],
   "source": [
    "# Get classification predictions\n",
    "predictions = model.predict(test_data)\n",
    "\n",
    "# Draw the ROC curve\n",
    "from sklearn.metrics import roc_curve, auc\n",
    "fpr, tpr, _ = roc_curve(test_labels, predictions)\n",
    "plt.xlim([.8, 1.01])\n",
    "plt.ylim([.8, 1.01])\n",
    "plt.plot( tpr, 1-fpr )"
   ]
  },
  {
   "cell_type": "code",
   "execution_count": null,
   "metadata": {
    "collapsed": true
   },
   "outputs": [],
   "source": []
  }
 ],
 "metadata": {
  "kernelspec": {
   "display_name": "Python 2",
   "language": "python",
   "name": "python2"
  },
  "language_info": {
   "codemirror_mode": {
    "name": "ipython",
    "version": 2
   },
   "file_extension": ".py",
   "mimetype": "text/x-python",
   "name": "python",
   "nbconvert_exporter": "python",
   "pygments_lexer": "ipython2",
   "version": "2.7.9"
  }
 },
 "nbformat": 4,
 "nbformat_minor": 0
}
