{
 "cells": [
  {
   "cell_type": "markdown",
   "metadata": {},
   "source": [
    "## Here we train single-hidden-layer convnets with different numbers of nodes"
   ]
  },
  {
   "cell_type": "code",
   "execution_count": 3,
   "metadata": {
    "collapsed": false
   },
   "outputs": [],
   "source": [
    "# Import functions\n",
    "import setGPU0\n",
    "from io_functions import *\n",
    "from draw_functions import *"
   ]
  },
  {
   "cell_type": "code",
   "execution_count": 4,
   "metadata": {
    "collapsed": true
   },
   "outputs": [],
   "source": [
    "# 1 is signal; 0 is background\n",
    "train_data, test_data, train_labels, test_labels = train_test(shape=(1, 20, 20, 25), split=0.33)"
   ]
  },
  {
   "cell_type": "code",
   "execution_count": 5,
   "metadata": {
    "collapsed": false
   },
   "outputs": [
    {
     "name": "stdout",
     "output_type": "stream",
     "text": [
      "Epoch 1/2\n",
      "54236/54236 [==============================] - 117s - loss: 0.6644   \n",
      "Epoch 2/2\n",
      "54236/54236 [==============================] - 115s - loss: 0.6013   \n"
     ]
    }
   ],
   "source": [
    "# Choose our list of number of nodes\n",
    "num_nodes = [10]\n",
    "\n",
    "# Make a one-hidden-layer network with that number of nodes for each entry in num_nodes.\n",
    "# Train it for 100 epochs, save the model, the weights, and loss history.\n",
    "for number in num_nodes:\n",
    "    \n",
    "    # Convolutional Layers\n",
    "    model = Sequential()\n",
    "    model.add(Convolution3D(3, 4, 4, 5, input_shape = (1, 20, 20, 25), activation='relu'))\n",
    "    model.add(MaxPooling3D())\n",
    "    model.add(Flatten())\n",
    "\n",
    "    # Dense layer\n",
    "    model.add(Dense(number, activation='relu'))\n",
    "    model.add(Dropout(0.5))\n",
    "    model.add(Dense(1, init='uniform', activation='sigmoid'))\n",
    "\n",
    "    # Compile model\n",
    "    model.compile(loss='binary_crossentropy', optimizer='sgd')\n",
    "    \n",
    "    # Train the network\n",
    "    my_fit = model.fit(train_data, train_labels, nb_epoch=2, batch_size=1000, verbose=1)\n",
    "    \n",
    "    # Get predictions\n",
    "    predicted = model.predict(test_data)\n",
    "    \n",
    "    # Store the model, the weights, the loss history, and the predicted and truth labels\n",
    "    store_model(model, my_fit.history['loss'], 'conv'+str(number), (predicted, test_labels))"
   ]
  },
  {
   "cell_type": "code",
   "execution_count": 9,
   "metadata": {
    "collapsed": false
   },
   "outputs": [
    {
     "data": {
      "text/plain": [
       "{'epoch': [0, 1],\n",
       " 'history': {'loss': [0.66442014005861327, 0.60132064087147008]},\n",
       " 'model': <keras.models.Sequential at 0x7f20ef67e590>,\n",
       " 'params': {'batch_size': 1000,\n",
       "  'do_validation': False,\n",
       "  'metrics': ['loss'],\n",
       "  'nb_epoch': 2,\n",
       "  'nb_sample': 54236,\n",
       "  'verbose': 1}}"
      ]
     },
     "execution_count": 9,
     "metadata": {},
     "output_type": "execute_result"
    }
   ],
   "source": [
    "my_fit.__dict__"
   ]
  },
  {
   "cell_type": "code",
   "execution_count": null,
   "metadata": {
    "collapsed": true
   },
   "outputs": [],
   "source": []
  }
 ],
 "metadata": {
  "kernelspec": {
   "display_name": "Python 2",
   "language": "python",
   "name": "python2"
  },
  "language_info": {
   "codemirror_mode": {
    "name": "ipython",
    "version": 2
   },
   "file_extension": ".py",
   "mimetype": "text/x-python",
   "name": "python",
   "nbconvert_exporter": "python",
   "pygments_lexer": "ipython2",
   "version": "2.7.9"
  }
 },
 "nbformat": 4,
 "nbformat_minor": 0
}
